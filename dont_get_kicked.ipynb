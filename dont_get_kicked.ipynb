{
 "cells": [
  {
   "cell_type": "markdown",
   "metadata": {
    "id": "U6kxtfgjBtiE"
   },
   "source": [
    "#This notebook shows the process of creating machine learning predictive models (some routine steps to build ML models)\n",
    "\n",
    "Background: One of the biggest challenges of an auto dealership purchasing a used car at an auto auction is the risk of that the vehicle might have serious issues that prevent it from being sold to customers. The auto community calls these unfortunate purchases \"kicks\".\n",
    "Kicked cars often result when there are tampered odometers, mechanical issues the dealer is not able to address, issues with getting the vehicle title from the seller, or some other unforeseen problem. Kick cars can be very costly to dealers after transportation cost, throw-away repair work, and market losses in reselling the vehicle.\n",
    "Modelers who can figure out which cars have a higher risk of being kick can provide real value to dealerships trying to provide the best inventory selection possible to their customers.\n",
    "The challenge of this competition is to predict if the car purchased at the Auction is a Kick (bad buy).\n",
    "https://www.kaggle.com/competitions/DontGetKicked/overview/description\n"
   ]
  },
  {
   "cell_type": "markdown",
   "metadata": {
    "id": "ZdpCp2PyC6jv"
   },
   "source": [
    "Import a few tools for this project"
   ]
  },
  {
   "cell_type": "code",
   "execution_count": 5,
   "metadata": {
    "id": "DVqxx38sBCHU"
   },
   "outputs": [],
   "source": [
    "import pandas as pd\n",
    "import numpy as np\n",
    "import matplotlib.pyplot as plt\n",
    "import seaborn as sns\n",
    "# ignore warnings\n",
    "import warnings\n",
    "warnings.simplefilter(action=\"ignore\", category=FutureWarning)\n",
    "import pickle # saving models\n"
   ]
  },
  {
   "cell_type": "code",
   "execution_count": 6,
   "metadata": {
    "colab": {
     "base_uri": "https://localhost:8080/"
    },
    "id": "fRw7bISxUNyc",
    "outputId": "4ce7ce37-2425-4ec6-aac1-841feb72d638"
   },
   "outputs": [
    {
     "name": "stdout",
     "output_type": "stream",
     "text": [
      "Python 3.7.13\n"
     ]
    }
   ],
   "source": [
    "!python --version"
   ]
  },
  {
   "cell_type": "code",
   "execution_count": null,
   "metadata": {
    "id": "oZ5XArA2Guhg"
   },
   "outputs": [],
   "source": [
    "# The following could be skipped if the training.csv and Carvana_Data_Dictionary.txt are in the same folder with this notebook file\n",
    "from google.colab import files\n",
    "files.upload()"
   ]
  },
  {
   "cell_type": "markdown",
   "metadata": {
    "id": "UWUTsDlZBO-Q"
   },
   "source": [
    "# Load data"
   ]
  },
  {
   "cell_type": "code",
   "execution_count": 9,
   "metadata": {
    "colab": {
     "base_uri": "https://localhost:8080/",
     "height": 456
    },
    "id": "JWMFwr3uEIdE",
    "outputId": "9c2d3b61-81bf-4b31-d017-834743bee389"
   },
   "outputs": [
    {
     "data": {
      "text/html": [
       "\n",
       "  <div id=\"df-3d28cc56-a140-41db-9e57-6c74db7ba03c\">\n",
       "    <div class=\"colab-df-container\">\n",
       "      <div>\n",
       "<style scoped>\n",
       "    .dataframe tbody tr th:only-of-type {\n",
       "        vertical-align: middle;\n",
       "    }\n",
       "\n",
       "    .dataframe tbody tr th {\n",
       "        vertical-align: top;\n",
       "    }\n",
       "\n",
       "    .dataframe thead th {\n",
       "        text-align: right;\n",
       "    }\n",
       "</style>\n",
       "<table border=\"1\" class=\"dataframe\">\n",
       "  <thead>\n",
       "    <tr style=\"text-align: right;\">\n",
       "      <th></th>\n",
       "      <th>RefId</th>\n",
       "      <th>IsBadBuy</th>\n",
       "      <th>PurchDate</th>\n",
       "      <th>Auction</th>\n",
       "      <th>VehYear</th>\n",
       "      <th>VehicleAge</th>\n",
       "      <th>Make</th>\n",
       "      <th>Model</th>\n",
       "      <th>Trim</th>\n",
       "      <th>SubModel</th>\n",
       "      <th>...</th>\n",
       "      <th>MMRCurrentRetailAveragePrice</th>\n",
       "      <th>MMRCurrentRetailCleanPrice</th>\n",
       "      <th>PRIMEUNIT</th>\n",
       "      <th>AUCGUART</th>\n",
       "      <th>BYRNO</th>\n",
       "      <th>VNZIP1</th>\n",
       "      <th>VNST</th>\n",
       "      <th>VehBCost</th>\n",
       "      <th>IsOnlineSale</th>\n",
       "      <th>WarrantyCost</th>\n",
       "    </tr>\n",
       "  </thead>\n",
       "  <tbody>\n",
       "    <tr>\n",
       "      <th>0</th>\n",
       "      <td>1</td>\n",
       "      <td>0</td>\n",
       "      <td>2009-12-07</td>\n",
       "      <td>ADESA</td>\n",
       "      <td>2006</td>\n",
       "      <td>3</td>\n",
       "      <td>MAZDA</td>\n",
       "      <td>MAZDA3</td>\n",
       "      <td>i</td>\n",
       "      <td>4D SEDAN I</td>\n",
       "      <td>...</td>\n",
       "      <td>11597.0</td>\n",
       "      <td>12409.0</td>\n",
       "      <td>NaN</td>\n",
       "      <td>NaN</td>\n",
       "      <td>21973</td>\n",
       "      <td>33619</td>\n",
       "      <td>FL</td>\n",
       "      <td>7100.0</td>\n",
       "      <td>0</td>\n",
       "      <td>1113</td>\n",
       "    </tr>\n",
       "    <tr>\n",
       "      <th>1</th>\n",
       "      <td>2</td>\n",
       "      <td>0</td>\n",
       "      <td>2009-12-07</td>\n",
       "      <td>ADESA</td>\n",
       "      <td>2004</td>\n",
       "      <td>5</td>\n",
       "      <td>DODGE</td>\n",
       "      <td>1500 RAM PICKUP 2WD</td>\n",
       "      <td>ST</td>\n",
       "      <td>QUAD CAB 4.7L SLT</td>\n",
       "      <td>...</td>\n",
       "      <td>11374.0</td>\n",
       "      <td>12791.0</td>\n",
       "      <td>NaN</td>\n",
       "      <td>NaN</td>\n",
       "      <td>19638</td>\n",
       "      <td>33619</td>\n",
       "      <td>FL</td>\n",
       "      <td>7600.0</td>\n",
       "      <td>0</td>\n",
       "      <td>1053</td>\n",
       "    </tr>\n",
       "    <tr>\n",
       "      <th>2</th>\n",
       "      <td>3</td>\n",
       "      <td>0</td>\n",
       "      <td>2009-12-07</td>\n",
       "      <td>ADESA</td>\n",
       "      <td>2005</td>\n",
       "      <td>4</td>\n",
       "      <td>DODGE</td>\n",
       "      <td>STRATUS V6</td>\n",
       "      <td>SXT</td>\n",
       "      <td>4D SEDAN SXT FFV</td>\n",
       "      <td>...</td>\n",
       "      <td>7146.0</td>\n",
       "      <td>8702.0</td>\n",
       "      <td>NaN</td>\n",
       "      <td>NaN</td>\n",
       "      <td>19638</td>\n",
       "      <td>33619</td>\n",
       "      <td>FL</td>\n",
       "      <td>4900.0</td>\n",
       "      <td>0</td>\n",
       "      <td>1389</td>\n",
       "    </tr>\n",
       "    <tr>\n",
       "      <th>3</th>\n",
       "      <td>4</td>\n",
       "      <td>0</td>\n",
       "      <td>2009-12-07</td>\n",
       "      <td>ADESA</td>\n",
       "      <td>2004</td>\n",
       "      <td>5</td>\n",
       "      <td>DODGE</td>\n",
       "      <td>NEON</td>\n",
       "      <td>SXT</td>\n",
       "      <td>4D SEDAN</td>\n",
       "      <td>...</td>\n",
       "      <td>4375.0</td>\n",
       "      <td>5518.0</td>\n",
       "      <td>NaN</td>\n",
       "      <td>NaN</td>\n",
       "      <td>19638</td>\n",
       "      <td>33619</td>\n",
       "      <td>FL</td>\n",
       "      <td>4100.0</td>\n",
       "      <td>0</td>\n",
       "      <td>630</td>\n",
       "    </tr>\n",
       "    <tr>\n",
       "      <th>4</th>\n",
       "      <td>5</td>\n",
       "      <td>0</td>\n",
       "      <td>2009-12-07</td>\n",
       "      <td>ADESA</td>\n",
       "      <td>2005</td>\n",
       "      <td>4</td>\n",
       "      <td>FORD</td>\n",
       "      <td>FOCUS</td>\n",
       "      <td>ZX3</td>\n",
       "      <td>2D COUPE ZX3</td>\n",
       "      <td>...</td>\n",
       "      <td>6739.0</td>\n",
       "      <td>7911.0</td>\n",
       "      <td>NaN</td>\n",
       "      <td>NaN</td>\n",
       "      <td>19638</td>\n",
       "      <td>33619</td>\n",
       "      <td>FL</td>\n",
       "      <td>4000.0</td>\n",
       "      <td>0</td>\n",
       "      <td>1020</td>\n",
       "    </tr>\n",
       "  </tbody>\n",
       "</table>\n",
       "<p>5 rows × 34 columns</p>\n",
       "</div>\n",
       "      <button class=\"colab-df-convert\" onclick=\"convertToInteractive('df-3d28cc56-a140-41db-9e57-6c74db7ba03c')\"\n",
       "              title=\"Convert this dataframe to an interactive table.\"\n",
       "              style=\"display:none;\">\n",
       "        \n",
       "  <svg xmlns=\"http://www.w3.org/2000/svg\" height=\"24px\"viewBox=\"0 0 24 24\"\n",
       "       width=\"24px\">\n",
       "    <path d=\"M0 0h24v24H0V0z\" fill=\"none\"/>\n",
       "    <path d=\"M18.56 5.44l.94 2.06.94-2.06 2.06-.94-2.06-.94-.94-2.06-.94 2.06-2.06.94zm-11 1L8.5 8.5l.94-2.06 2.06-.94-2.06-.94L8.5 2.5l-.94 2.06-2.06.94zm10 10l.94 2.06.94-2.06 2.06-.94-2.06-.94-.94-2.06-.94 2.06-2.06.94z\"/><path d=\"M17.41 7.96l-1.37-1.37c-.4-.4-.92-.59-1.43-.59-.52 0-1.04.2-1.43.59L10.3 9.45l-7.72 7.72c-.78.78-.78 2.05 0 2.83L4 21.41c.39.39.9.59 1.41.59.51 0 1.02-.2 1.41-.59l7.78-7.78 2.81-2.81c.8-.78.8-2.07 0-2.86zM5.41 20L4 18.59l7.72-7.72 1.47 1.35L5.41 20z\"/>\n",
       "  </svg>\n",
       "      </button>\n",
       "      \n",
       "  <style>\n",
       "    .colab-df-container {\n",
       "      display:flex;\n",
       "      flex-wrap:wrap;\n",
       "      gap: 12px;\n",
       "    }\n",
       "\n",
       "    .colab-df-convert {\n",
       "      background-color: #E8F0FE;\n",
       "      border: none;\n",
       "      border-radius: 50%;\n",
       "      cursor: pointer;\n",
       "      display: none;\n",
       "      fill: #1967D2;\n",
       "      height: 32px;\n",
       "      padding: 0 0 0 0;\n",
       "      width: 32px;\n",
       "    }\n",
       "\n",
       "    .colab-df-convert:hover {\n",
       "      background-color: #E2EBFA;\n",
       "      box-shadow: 0px 1px 2px rgba(60, 64, 67, 0.3), 0px 1px 3px 1px rgba(60, 64, 67, 0.15);\n",
       "      fill: #174EA6;\n",
       "    }\n",
       "\n",
       "    [theme=dark] .colab-df-convert {\n",
       "      background-color: #3B4455;\n",
       "      fill: #D2E3FC;\n",
       "    }\n",
       "\n",
       "    [theme=dark] .colab-df-convert:hover {\n",
       "      background-color: #434B5C;\n",
       "      box-shadow: 0px 1px 3px 1px rgba(0, 0, 0, 0.15);\n",
       "      filter: drop-shadow(0px 1px 2px rgba(0, 0, 0, 0.3));\n",
       "      fill: #FFFFFF;\n",
       "    }\n",
       "  </style>\n",
       "\n",
       "      <script>\n",
       "        const buttonEl =\n",
       "          document.querySelector('#df-3d28cc56-a140-41db-9e57-6c74db7ba03c button.colab-df-convert');\n",
       "        buttonEl.style.display =\n",
       "          google.colab.kernel.accessAllowed ? 'block' : 'none';\n",
       "\n",
       "        async function convertToInteractive(key) {\n",
       "          const element = document.querySelector('#df-3d28cc56-a140-41db-9e57-6c74db7ba03c');\n",
       "          const dataTable =\n",
       "            await google.colab.kernel.invokeFunction('convertToInteractive',\n",
       "                                                     [key], {});\n",
       "          if (!dataTable) return;\n",
       "\n",
       "          const docLinkHtml = 'Like what you see? Visit the ' +\n",
       "            '<a target=\"_blank\" href=https://colab.research.google.com/notebooks/data_table.ipynb>data table notebook</a>'\n",
       "            + ' to learn more about interactive tables.';\n",
       "          element.innerHTML = '';\n",
       "          dataTable['output_type'] = 'display_data';\n",
       "          await google.colab.output.renderOutput(dataTable, element);\n",
       "          const docLink = document.createElement('div');\n",
       "          docLink.innerHTML = docLinkHtml;\n",
       "          element.appendChild(docLink);\n",
       "        }\n",
       "      </script>\n",
       "    </div>\n",
       "  </div>\n",
       "  "
      ],
      "text/plain": [
       "   RefId  IsBadBuy  PurchDate Auction  VehYear  VehicleAge   Make  \\\n",
       "0      1         0 2009-12-07   ADESA     2006           3  MAZDA   \n",
       "1      2         0 2009-12-07   ADESA     2004           5  DODGE   \n",
       "2      3         0 2009-12-07   ADESA     2005           4  DODGE   \n",
       "3      4         0 2009-12-07   ADESA     2004           5  DODGE   \n",
       "4      5         0 2009-12-07   ADESA     2005           4   FORD   \n",
       "\n",
       "                 Model Trim           SubModel  ...  \\\n",
       "0               MAZDA3    i         4D SEDAN I  ...   \n",
       "1  1500 RAM PICKUP 2WD   ST  QUAD CAB 4.7L SLT  ...   \n",
       "2           STRATUS V6  SXT   4D SEDAN SXT FFV  ...   \n",
       "3                 NEON  SXT           4D SEDAN  ...   \n",
       "4                FOCUS  ZX3       2D COUPE ZX3  ...   \n",
       "\n",
       "  MMRCurrentRetailAveragePrice MMRCurrentRetailCleanPrice  PRIMEUNIT AUCGUART  \\\n",
       "0                      11597.0                    12409.0        NaN      NaN   \n",
       "1                      11374.0                    12791.0        NaN      NaN   \n",
       "2                       7146.0                     8702.0        NaN      NaN   \n",
       "3                       4375.0                     5518.0        NaN      NaN   \n",
       "4                       6739.0                     7911.0        NaN      NaN   \n",
       "\n",
       "   BYRNO VNZIP1 VNST VehBCost  IsOnlineSale  WarrantyCost  \n",
       "0  21973  33619   FL   7100.0             0          1113  \n",
       "1  19638  33619   FL   7600.0             0          1053  \n",
       "2  19638  33619   FL   4900.0             0          1389  \n",
       "3  19638  33619   FL   4100.0             0           630  \n",
       "4  19638  33619   FL   4000.0             0          1020  \n",
       "\n",
       "[5 rows x 34 columns]"
      ]
     },
     "execution_count": 9,
     "metadata": {},
     "output_type": "execute_result"
    }
   ],
   "source": [
    "dgk_df = pd.read_csv('training.csv',parse_dates=[\"PurchDate\"])\n",
    "dgk_df.head()"
   ]
  },
  {
   "cell_type": "code",
   "execution_count": 10,
   "metadata": {
    "colab": {
     "base_uri": "https://localhost:8080/",
     "height": 386
    },
    "id": "DPVd8DglHoGo",
    "outputId": "8306cebd-dc1f-4a15-8b9c-1f22f73e2333"
   },
   "outputs": [
    {
     "data": {
      "text/html": [
       "\n",
       "  <div id=\"df-cae6e422-fbbb-4cd9-a0b3-ee4090e8c9fd\">\n",
       "    <div class=\"colab-df-container\">\n",
       "      <div>\n",
       "<style scoped>\n",
       "    .dataframe tbody tr th:only-of-type {\n",
       "        vertical-align: middle;\n",
       "    }\n",
       "\n",
       "    .dataframe tbody tr th {\n",
       "        vertical-align: top;\n",
       "    }\n",
       "\n",
       "    .dataframe thead th {\n",
       "        text-align: right;\n",
       "    }\n",
       "</style>\n",
       "<table border=\"1\" class=\"dataframe\">\n",
       "  <thead>\n",
       "    <tr style=\"text-align: right;\">\n",
       "      <th></th>\n",
       "      <th>RefId</th>\n",
       "      <th>PurchDate</th>\n",
       "      <th>Auction</th>\n",
       "      <th>VehYear</th>\n",
       "      <th>VehicleAge</th>\n",
       "      <th>Make</th>\n",
       "      <th>Model</th>\n",
       "      <th>Trim</th>\n",
       "      <th>SubModel</th>\n",
       "      <th>Color</th>\n",
       "      <th>...</th>\n",
       "      <th>MMRCurrentRetailAveragePrice</th>\n",
       "      <th>MMRCurrentRetailCleanPrice</th>\n",
       "      <th>PRIMEUNIT</th>\n",
       "      <th>AUCGUART</th>\n",
       "      <th>BYRNO</th>\n",
       "      <th>VNZIP1</th>\n",
       "      <th>VNST</th>\n",
       "      <th>VehBCost</th>\n",
       "      <th>IsOnlineSale</th>\n",
       "      <th>WarrantyCost</th>\n",
       "    </tr>\n",
       "  </thead>\n",
       "  <tbody>\n",
       "    <tr>\n",
       "      <th>0</th>\n",
       "      <td>73015</td>\n",
       "      <td>2009-12-02</td>\n",
       "      <td>ADESA</td>\n",
       "      <td>2005</td>\n",
       "      <td>4</td>\n",
       "      <td>PONTIAC</td>\n",
       "      <td>GRAND PRIX</td>\n",
       "      <td>Bas</td>\n",
       "      <td>4D SEDAN</td>\n",
       "      <td>SILVER</td>\n",
       "      <td>...</td>\n",
       "      <td>8557.0</td>\n",
       "      <td>9752.0</td>\n",
       "      <td>NaN</td>\n",
       "      <td>NaN</td>\n",
       "      <td>18881</td>\n",
       "      <td>30212</td>\n",
       "      <td>GA</td>\n",
       "      <td>6500.0</td>\n",
       "      <td>0</td>\n",
       "      <td>2152</td>\n",
       "    </tr>\n",
       "    <tr>\n",
       "      <th>1</th>\n",
       "      <td>73016</td>\n",
       "      <td>2009-12-02</td>\n",
       "      <td>ADESA</td>\n",
       "      <td>2005</td>\n",
       "      <td>4</td>\n",
       "      <td>CHEVROLET</td>\n",
       "      <td>MALIBU V6</td>\n",
       "      <td>LS</td>\n",
       "      <td>4D SEDAN LS</td>\n",
       "      <td>SILVER</td>\n",
       "      <td>...</td>\n",
       "      <td>7562.0</td>\n",
       "      <td>9296.0</td>\n",
       "      <td>NaN</td>\n",
       "      <td>NaN</td>\n",
       "      <td>18111</td>\n",
       "      <td>30212</td>\n",
       "      <td>GA</td>\n",
       "      <td>6300.0</td>\n",
       "      <td>0</td>\n",
       "      <td>1118</td>\n",
       "    </tr>\n",
       "    <tr>\n",
       "      <th>2</th>\n",
       "      <td>73017</td>\n",
       "      <td>2009-12-02</td>\n",
       "      <td>ADESA</td>\n",
       "      <td>2006</td>\n",
       "      <td>3</td>\n",
       "      <td>DODGE</td>\n",
       "      <td>DURANGO 2WD V8</td>\n",
       "      <td>Adv</td>\n",
       "      <td>4D SUV 4.7L ADVENTURER</td>\n",
       "      <td>SILVER</td>\n",
       "      <td>...</td>\n",
       "      <td>15340.0</td>\n",
       "      <td>16512.0</td>\n",
       "      <td>NaN</td>\n",
       "      <td>NaN</td>\n",
       "      <td>18111</td>\n",
       "      <td>30212</td>\n",
       "      <td>GA</td>\n",
       "      <td>9700.0</td>\n",
       "      <td>0</td>\n",
       "      <td>1215</td>\n",
       "    </tr>\n",
       "    <tr>\n",
       "      <th>3</th>\n",
       "      <td>73018</td>\n",
       "      <td>2009-12-02</td>\n",
       "      <td>ADESA</td>\n",
       "      <td>2002</td>\n",
       "      <td>7</td>\n",
       "      <td>SATURN</td>\n",
       "      <td>L SERIES</td>\n",
       "      <td>L20</td>\n",
       "      <td>4D SEDAN L200</td>\n",
       "      <td>GOLD</td>\n",
       "      <td>...</td>\n",
       "      <td>5725.0</td>\n",
       "      <td>6398.0</td>\n",
       "      <td>NaN</td>\n",
       "      <td>NaN</td>\n",
       "      <td>18881</td>\n",
       "      <td>30212</td>\n",
       "      <td>GA</td>\n",
       "      <td>4150.0</td>\n",
       "      <td>0</td>\n",
       "      <td>1933</td>\n",
       "    </tr>\n",
       "    <tr>\n",
       "      <th>4</th>\n",
       "      <td>73019</td>\n",
       "      <td>2009-12-02</td>\n",
       "      <td>ADESA</td>\n",
       "      <td>2007</td>\n",
       "      <td>2</td>\n",
       "      <td>HYUNDAI</td>\n",
       "      <td>ACCENT</td>\n",
       "      <td>GS</td>\n",
       "      <td>2D COUPE GS</td>\n",
       "      <td>BLUE</td>\n",
       "      <td>...</td>\n",
       "      <td>5914.0</td>\n",
       "      <td>7350.0</td>\n",
       "      <td>NaN</td>\n",
       "      <td>NaN</td>\n",
       "      <td>18111</td>\n",
       "      <td>30212</td>\n",
       "      <td>GA</td>\n",
       "      <td>4100.0</td>\n",
       "      <td>0</td>\n",
       "      <td>920</td>\n",
       "    </tr>\n",
       "  </tbody>\n",
       "</table>\n",
       "<p>5 rows × 33 columns</p>\n",
       "</div>\n",
       "      <button class=\"colab-df-convert\" onclick=\"convertToInteractive('df-cae6e422-fbbb-4cd9-a0b3-ee4090e8c9fd')\"\n",
       "              title=\"Convert this dataframe to an interactive table.\"\n",
       "              style=\"display:none;\">\n",
       "        \n",
       "  <svg xmlns=\"http://www.w3.org/2000/svg\" height=\"24px\"viewBox=\"0 0 24 24\"\n",
       "       width=\"24px\">\n",
       "    <path d=\"M0 0h24v24H0V0z\" fill=\"none\"/>\n",
       "    <path d=\"M18.56 5.44l.94 2.06.94-2.06 2.06-.94-2.06-.94-.94-2.06-.94 2.06-2.06.94zm-11 1L8.5 8.5l.94-2.06 2.06-.94-2.06-.94L8.5 2.5l-.94 2.06-2.06.94zm10 10l.94 2.06.94-2.06 2.06-.94-2.06-.94-.94-2.06-.94 2.06-2.06.94z\"/><path d=\"M17.41 7.96l-1.37-1.37c-.4-.4-.92-.59-1.43-.59-.52 0-1.04.2-1.43.59L10.3 9.45l-7.72 7.72c-.78.78-.78 2.05 0 2.83L4 21.41c.39.39.9.59 1.41.59.51 0 1.02-.2 1.41-.59l7.78-7.78 2.81-2.81c.8-.78.8-2.07 0-2.86zM5.41 20L4 18.59l7.72-7.72 1.47 1.35L5.41 20z\"/>\n",
       "  </svg>\n",
       "      </button>\n",
       "      \n",
       "  <style>\n",
       "    .colab-df-container {\n",
       "      display:flex;\n",
       "      flex-wrap:wrap;\n",
       "      gap: 12px;\n",
       "    }\n",
       "\n",
       "    .colab-df-convert {\n",
       "      background-color: #E8F0FE;\n",
       "      border: none;\n",
       "      border-radius: 50%;\n",
       "      cursor: pointer;\n",
       "      display: none;\n",
       "      fill: #1967D2;\n",
       "      height: 32px;\n",
       "      padding: 0 0 0 0;\n",
       "      width: 32px;\n",
       "    }\n",
       "\n",
       "    .colab-df-convert:hover {\n",
       "      background-color: #E2EBFA;\n",
       "      box-shadow: 0px 1px 2px rgba(60, 64, 67, 0.3), 0px 1px 3px 1px rgba(60, 64, 67, 0.15);\n",
       "      fill: #174EA6;\n",
       "    }\n",
       "\n",
       "    [theme=dark] .colab-df-convert {\n",
       "      background-color: #3B4455;\n",
       "      fill: #D2E3FC;\n",
       "    }\n",
       "\n",
       "    [theme=dark] .colab-df-convert:hover {\n",
       "      background-color: #434B5C;\n",
       "      box-shadow: 0px 1px 3px 1px rgba(0, 0, 0, 0.15);\n",
       "      filter: drop-shadow(0px 1px 2px rgba(0, 0, 0, 0.3));\n",
       "      fill: #FFFFFF;\n",
       "    }\n",
       "  </style>\n",
       "\n",
       "      <script>\n",
       "        const buttonEl =\n",
       "          document.querySelector('#df-cae6e422-fbbb-4cd9-a0b3-ee4090e8c9fd button.colab-df-convert');\n",
       "        buttonEl.style.display =\n",
       "          google.colab.kernel.accessAllowed ? 'block' : 'none';\n",
       "\n",
       "        async function convertToInteractive(key) {\n",
       "          const element = document.querySelector('#df-cae6e422-fbbb-4cd9-a0b3-ee4090e8c9fd');\n",
       "          const dataTable =\n",
       "            await google.colab.kernel.invokeFunction('convertToInteractive',\n",
       "                                                     [key], {});\n",
       "          if (!dataTable) return;\n",
       "\n",
       "          const docLinkHtml = 'Like what you see? Visit the ' +\n",
       "            '<a target=\"_blank\" href=https://colab.research.google.com/notebooks/data_table.ipynb>data table notebook</a>'\n",
       "            + ' to learn more about interactive tables.';\n",
       "          element.innerHTML = '';\n",
       "          dataTable['output_type'] = 'display_data';\n",
       "          await google.colab.output.renderOutput(dataTable, element);\n",
       "          const docLink = document.createElement('div');\n",
       "          docLink.innerHTML = docLinkHtml;\n",
       "          element.appendChild(docLink);\n",
       "        }\n",
       "      </script>\n",
       "    </div>\n",
       "  </div>\n",
       "  "
      ],
      "text/plain": [
       "   RefId  PurchDate Auction  VehYear  VehicleAge       Make           Model  \\\n",
       "0  73015 2009-12-02   ADESA     2005           4    PONTIAC      GRAND PRIX   \n",
       "1  73016 2009-12-02   ADESA     2005           4  CHEVROLET       MALIBU V6   \n",
       "2  73017 2009-12-02   ADESA     2006           3      DODGE  DURANGO 2WD V8   \n",
       "3  73018 2009-12-02   ADESA     2002           7     SATURN        L SERIES   \n",
       "4  73019 2009-12-02   ADESA     2007           2    HYUNDAI          ACCENT   \n",
       "\n",
       "  Trim                SubModel   Color  ... MMRCurrentRetailAveragePrice  \\\n",
       "0  Bas                4D SEDAN  SILVER  ...                       8557.0   \n",
       "1   LS             4D SEDAN LS  SILVER  ...                       7562.0   \n",
       "2  Adv  4D SUV 4.7L ADVENTURER  SILVER  ...                      15340.0   \n",
       "3  L20           4D SEDAN L200    GOLD  ...                       5725.0   \n",
       "4   GS             2D COUPE GS    BLUE  ...                       5914.0   \n",
       "\n",
       "   MMRCurrentRetailCleanPrice PRIMEUNIT  AUCGUART  BYRNO VNZIP1 VNST  \\\n",
       "0                      9752.0       NaN       NaN  18881  30212   GA   \n",
       "1                      9296.0       NaN       NaN  18111  30212   GA   \n",
       "2                     16512.0       NaN       NaN  18111  30212   GA   \n",
       "3                      6398.0       NaN       NaN  18881  30212   GA   \n",
       "4                      7350.0       NaN       NaN  18111  30212   GA   \n",
       "\n",
       "   VehBCost  IsOnlineSale  WarrantyCost  \n",
       "0    6500.0             0          2152  \n",
       "1    6300.0             0          1118  \n",
       "2    9700.0             0          1215  \n",
       "3    4150.0             0          1933  \n",
       "4    4100.0             0           920  \n",
       "\n",
       "[5 rows x 33 columns]"
      ]
     },
     "execution_count": 10,
     "metadata": {},
     "output_type": "execute_result"
    }
   ],
   "source": [
    "test_df = pd.read_csv('test.csv',parse_dates=[\"PurchDate\"])\n",
    "test_df.head()"
   ]
  },
  {
   "cell_type": "markdown",
   "metadata": {
    "id": "ZBkYe0RaEQqL"
   },
   "source": [
    "# Initial Check"
   ]
  },
  {
   "cell_type": "code",
   "execution_count": 11,
   "metadata": {
    "colab": {
     "base_uri": "https://localhost:8080/"
    },
    "id": "vyKHKIrMF3be",
    "outputId": "ccbc3878-a1b6-4093-c252-cc4cb74554ef"
   },
   "outputs": [
    {
     "name": "stdout",
     "output_type": "stream",
     "text": [
      "<class 'pandas.core.frame.DataFrame'>\n",
      "RangeIndex: 72983 entries, 0 to 72982\n",
      "Data columns (total 34 columns):\n",
      " #   Column                             Non-Null Count  Dtype         \n",
      "---  ------                             --------------  -----         \n",
      " 0   RefId                              72983 non-null  int64         \n",
      " 1   IsBadBuy                           72983 non-null  int64         \n",
      " 2   PurchDate                          72983 non-null  datetime64[ns]\n",
      " 3   Auction                            72983 non-null  object        \n",
      " 4   VehYear                            72983 non-null  int64         \n",
      " 5   VehicleAge                         72983 non-null  int64         \n",
      " 6   Make                               72983 non-null  object        \n",
      " 7   Model                              72983 non-null  object        \n",
      " 8   Trim                               70623 non-null  object        \n",
      " 9   SubModel                           72975 non-null  object        \n",
      " 10  Color                              72975 non-null  object        \n",
      " 11  Transmission                       72974 non-null  object        \n",
      " 12  WheelTypeID                        69814 non-null  float64       \n",
      " 13  WheelType                          69809 non-null  object        \n",
      " 14  VehOdo                             72983 non-null  int64         \n",
      " 15  Nationality                        72978 non-null  object        \n",
      " 16  Size                               72978 non-null  object        \n",
      " 17  TopThreeAmericanName               72978 non-null  object        \n",
      " 18  MMRAcquisitionAuctionAveragePrice  72965 non-null  float64       \n",
      " 19  MMRAcquisitionAuctionCleanPrice    72965 non-null  float64       \n",
      " 20  MMRAcquisitionRetailAveragePrice   72965 non-null  float64       \n",
      " 21  MMRAcquisitonRetailCleanPrice      72965 non-null  float64       \n",
      " 22  MMRCurrentAuctionAveragePrice      72668 non-null  float64       \n",
      " 23  MMRCurrentAuctionCleanPrice        72668 non-null  float64       \n",
      " 24  MMRCurrentRetailAveragePrice       72668 non-null  float64       \n",
      " 25  MMRCurrentRetailCleanPrice         72668 non-null  float64       \n",
      " 26  PRIMEUNIT                          3419 non-null   object        \n",
      " 27  AUCGUART                           3419 non-null   object        \n",
      " 28  BYRNO                              72983 non-null  int64         \n",
      " 29  VNZIP1                             72983 non-null  int64         \n",
      " 30  VNST                               72983 non-null  object        \n",
      " 31  VehBCost                           72983 non-null  float64       \n",
      " 32  IsOnlineSale                       72983 non-null  int64         \n",
      " 33  WarrantyCost                       72983 non-null  int64         \n",
      "dtypes: datetime64[ns](1), float64(10), int64(9), object(14)\n",
      "memory usage: 18.9+ MB\n"
     ]
    }
   ],
   "source": [
    "dgk_df.info()"
   ]
  },
  {
   "cell_type": "markdown",
   "metadata": {
    "id": "31qtSW6MBsd2"
   },
   "source": [
    "From the DataFrame info, there are three types of features: date (datetime64[ns]), numerical(int64 ad float64) and categorical one with type: object"
   ]
  },
  {
   "cell_type": "code",
   "execution_count": 12,
   "metadata": {
    "colab": {
     "base_uri": "https://localhost:8080/"
    },
    "id": "iSg1IWMNGkDR",
    "outputId": "62c01929-6558-4f9d-fcab-9d78b3d3d133"
   },
   "outputs": [
    {
     "name": "stdout",
     "output_type": "stream",
     "text": [
      "Description about the columns:\n",
      "\n",
      "Field Name\t\t\t\tDefinition\n",
      "RefID\t\t\t\t        Unique (sequential) number assigned to vehicles\n",
      "IsBadBuy\t\t\t\tIdentifies if the kicked vehicle was an avoidable purchase \n",
      "PurchDate\t\t\t\tThe Date the vehicle was Purchased at Auction\n",
      "Auction\t\t\t\t\tAuction provider at which the  vehicle was purchased\n",
      "VehYear\t\t\t\t\tThe manufacturer's year of the vehicle\n",
      "VehicleAge\t\t\t\tThe Years elapsed since the manufacturer's year\n",
      "Make\t\t\t\t\tVehicle Manufacturer \n",
      "Model\t\t\t\t\tVehicle Model\n",
      "Trim\t\t\t\t\tVehicle Trim Level\n",
      "SubModel\t\t\t\tVehicle Submodel\n",
      "Color\t\t\t\t\tVehicle Color\n",
      "Transmission\t\t\t\tVehicles transmission type (Automatic, Manual)\n",
      "WheelTypeID\t\t\t\tThe type id of the vehicle wheel\n",
      "WheelType\t\t\t\tThe vehicle wheel type description (Alloy, Covers)\n",
      "VehOdo\t\t\t\t\tThe vehicles odometer reading\n",
      "Nationality\t\t\t\tThe Manufacturer's country\n",
      "Size\t\t\t\t\tThe size category of the vehicle (Compact, SUV, etc.)\n",
      "TopThreeAmericanName\t\t\tIdentifies if the manufacturer is one of the top three American manufacturers\n",
      "MMRAcquisitionAuctionAveragePrice\tAcquisition price for this vehicle in average condition at time of purchase\t\n",
      "MMRAcquisitionAuctionCleanPrice\t\tAcquisition price for this vehicle in the above Average condition at time of purchase\n",
      "MMRAcquisitionRetailAveragePrice\tAcquisition price for this vehicle in the retail market in average condition at time of purchase\n",
      "MMRAcquisitonRetailCleanPrice\t\tAcquisition price for this vehicle in the retail market in above average condition at time of purchase\n",
      "MMRCurrentAuctionAveragePrice\t\tAcquisition price for this vehicle in average condition as of current day\t\n",
      "MMRCurrentAuctionCleanPrice\t\tAcquisition price for this vehicle in the above condition as of current day\n",
      "MMRCurrentRetailAveragePrice\t\tAcquisition price for this vehicle in the retail market in average condition as of current day\n",
      "MMRCurrentRetailCleanPrice\t\tAcquisition price for this vehicle in the retail market in above average condition as of current day\n",
      "PRIMEUNIT\t\t\t\tIdentifies if the vehicle would have a higher demand than a standard purchase\n",
      "AcquisitionType\t\t\t\tIdentifies how the vehicle was aquired (Auction buy, trade in, etc)\n",
      "AUCGUART\t\t\t\tThe level guarntee provided by auction for the vehicle (Green light - Guaranteed/arbitratable, Yellow Light - caution/issue, red light - sold as is)\n",
      "KickDate\t\t\t\tDate the vehicle was kicked back to the auction\n",
      "BYRNO\t\t\t\t\tUnique number assigned to the buyer that purchased the vehicle\n",
      "VNZIP                                   Zipcode where the car was purchased\n",
      "VNST                                    State where the the car was purchased\n",
      "VehBCost\t\t\t\tAcquisition cost paid for the vehicle at time of purchase\n",
      "IsOnlineSale\t\t\t\tIdentifies if the vehicle was originally purchased online\n",
      "WarrantyCost                            Warranty price (term=36month  and millage=36K) \n",
      "\n",
      "\n"
     ]
    }
   ],
   "source": [
    "print(\"Description about the columns:\\n\")\n",
    "des = open('Carvana_Data_Dictionary.txt', 'r')\n",
    "print(des.read())"
   ]
  },
  {
   "cell_type": "markdown",
   "metadata": {
    "id": "s07Z8bKkIW9N"
   },
   "source": [
    "#Exploratory Data Analysis"
   ]
  },
  {
   "cell_type": "markdown",
   "metadata": {
    "id": "xD1X4Ii7aH0_"
   },
   "source": [
    "get these numeric features and drop RefID and BYTNO (won't affect modeling). "
   ]
  },
  {
   "cell_type": "code",
   "execution_count": 14,
   "metadata": {
    "colab": {
     "base_uri": "https://localhost:8080/"
    },
    "id": "-d5j9pEiIc2M",
    "outputId": "5565e523-f912-4756-d46a-ac039a444fa0"
   },
   "outputs": [
    {
     "name": "stdout",
     "output_type": "stream",
     "text": [
      "Index(['IsBadBuy', 'VehYear', 'VehicleAge', 'WheelTypeID', 'VehOdo',\n",
      "       'MMRAcquisitionAuctionAveragePrice', 'MMRAcquisitionAuctionCleanPrice',\n",
      "       'MMRAcquisitionRetailAveragePrice', 'MMRAcquisitonRetailCleanPrice',\n",
      "       'MMRCurrentAuctionAveragePrice', 'MMRCurrentAuctionCleanPrice',\n",
      "       'MMRCurrentRetailAveragePrice', 'MMRCurrentRetailCleanPrice', 'VNZIP1',\n",
      "       'VehBCost', 'IsOnlineSale', 'WarrantyCost'],\n",
      "      dtype='object')\n"
     ]
    }
   ],
   "source": [
    "num_features = dgk_df.select_dtypes(include =['float64', 'int64']).columns.drop(['RefId','BYRNO']) #inplace is not set yet for drop\n",
    "print(num_features)"
   ]
  },
  {
   "cell_type": "code",
   "execution_count": 15,
   "metadata": {
    "colab": {
     "base_uri": "https://localhost:8080/"
    },
    "id": "BpN6F57kKj1j",
    "outputId": "cabdba34-d632-4bd8-d8bf-30090484a955"
   },
   "outputs": [
    {
     "name": "stdout",
     "output_type": "stream",
     "text": [
      "Index(['PurchDate', 'Auction', 'Make', 'Model', 'Trim', 'SubModel', 'Color',\n",
      "       'Transmission', 'WheelType', 'Nationality', 'Size',\n",
      "       'TopThreeAmericanName', 'PRIMEUNIT', 'AUCGUART', 'VNST'],\n",
      "      dtype='object')\n"
     ]
    }
   ],
   "source": [
    "# categorical features\n",
    "cat_features = dgk_df.select_dtypes(include =['object', 'datetime64[ns]']).columns\n",
    "print(cat_features)"
   ]
  },
  {
   "cell_type": "code",
   "execution_count": 16,
   "metadata": {
    "colab": {
     "base_uri": "https://localhost:8080/"
    },
    "id": "NwZ7jfJdbBos",
    "outputId": "c3c22eb6-4926-454f-c7b4-447e0fe11237"
   },
   "outputs": [
    {
     "name": "stdout",
     "output_type": "stream",
     "text": [
      "datetime64[ns]\n",
      "2009-01-05 00:00:00 2010-12-30 00:00:00 517\n"
     ]
    }
   ],
   "source": [
    "dates = dgk_df['PurchDate']\n",
    "print(dates.dtype)\n",
    "print(min(dates), max(dates), len(set(dates)))"
   ]
  },
  {
   "cell_type": "code",
   "execution_count": 17,
   "metadata": {
    "colab": {
     "base_uri": "https://localhost:8080/",
     "height": 1000
    },
    "id": "HGMA_Bjth0JA",
    "outputId": "5db3128b-ad95-4fd5-fa0d-c0c006efab53"
   },
   "outputs": [
    {
     "data": {
      "text/plain": [
       "array([[<matplotlib.axes._subplots.AxesSubplot object at 0x7fc880de3910>,\n",
       "        <matplotlib.axes._subplots.AxesSubplot object at 0x7fc880c1ded0>,\n",
       "        <matplotlib.axes._subplots.AxesSubplot object at 0x7fc880da54d0>,\n",
       "        <matplotlib.axes._subplots.AxesSubplot object at 0x7fc880dd9ad0>],\n",
       "       [<matplotlib.axes._subplots.AxesSubplot object at 0x7fc880d1e110>,\n",
       "        <matplotlib.axes._subplots.AxesSubplot object at 0x7fc880d55710>,\n",
       "        <matplotlib.axes._subplots.AxesSubplot object at 0x7fc880cc9d10>,\n",
       "        <matplotlib.axes._subplots.AxesSubplot object at 0x7fc880c8d350>],\n",
       "       [<matplotlib.axes._subplots.AxesSubplot object at 0x7fc880c03990>,\n",
       "        <matplotlib.axes._subplots.AxesSubplot object at 0x7fc880bb0b90>,\n",
       "        <matplotlib.axes._subplots.AxesSubplot object at 0x7fc880b7e590>,\n",
       "        <matplotlib.axes._subplots.AxesSubplot object at 0x7fc880b34b90>],\n",
       "       [<matplotlib.axes._subplots.AxesSubplot object at 0x7fc880af91d0>,\n",
       "        <matplotlib.axes._subplots.AxesSubplot object at 0x7fc880aae7d0>,\n",
       "        <matplotlib.axes._subplots.AxesSubplot object at 0x7fc880a65dd0>,\n",
       "        <matplotlib.axes._subplots.AxesSubplot object at 0x7fc880a27410>],\n",
       "       [<matplotlib.axes._subplots.AxesSubplot object at 0x7fc8809dca10>,\n",
       "        <matplotlib.axes._subplots.AxesSubplot object at 0x7fc8809a22d0>,\n",
       "        <matplotlib.axes._subplots.AxesSubplot object at 0x7fc880960bd0>,\n",
       "        <matplotlib.axes._subplots.AxesSubplot object at 0x7fc880926350>]],\n",
       "      dtype=object)"
      ]
     },
     "execution_count": 17,
     "metadata": {},
     "output_type": "execute_result"
    },
    {
     "data": {
      "image/png": "[encoded data removed]",
      "text/plain": [
       "<Figure size 1440x1440 with 20 Axes>"
      ]
     },
     "metadata": {
      "needs_background": "light"
     },
     "output_type": "display_data"
    }
   ],
   "source": [
    "dgk_df[num_features].hist(figsize =(20,20),color='lightblue', bins =60)"
   ]
  },
  {
   "cell_type": "code",
   "execution_count": 18,
   "metadata": {
    "colab": {
     "base_uri": "https://localhost:8080/",
     "height": 387
    },
    "id": "5ga3nrmfpalF",
    "outputId": "ff2aaa10-34d3-467f-8c91-f834307f00d9"
   },
   "outputs": [
    {
     "data": {
      "text/plain": [
       "<seaborn.axisgrid.FacetGrid at 0x7fc87fa5e8d0>"
      ]
     },
     "execution_count": 18,
     "metadata": {},
     "output_type": "execute_result"
    },
    {
     "data": {
      "image/png": "[encoded data removed]",
      "text/plain": [
       "<Figure size 414.625x360 with 1 Axes>"
      ]
     },
     "metadata": {
      "needs_background": "light"
     },
     "output_type": "display_data"
    }
   ],
   "source": [
    "sns.displot(dgk_df, x=\"MMRAcquisitionAuctionAveragePrice\", hue=\"IsBadBuy\", multiple=\"dodge\")"
   ]
  },
  {
   "cell_type": "code",
   "execution_count": 19,
   "metadata": {
    "colab": {
     "base_uri": "https://localhost:8080/",
     "height": 286
    },
    "id": "iyMUMAOEizf5",
    "outputId": "20753932-9c4c-4b38-dc04-84831eb17c12"
   },
   "outputs": [
    {
     "data": {
      "text/plain": [
       "<matplotlib.axes._subplots.AxesSubplot at 0x7fc87c88b650>"
      ]
     },
     "execution_count": 19,
     "metadata": {},
     "output_type": "execute_result"
    },
    {
     "data": {
      "image/png": "[encoded data removed]",
      "text/plain": [
       "<Figure size 720x288 with 1 Axes>"
      ]
     },
     "metadata": {
      "needs_background": "light"
     },
     "output_type": "display_data"
    }
   ],
   "source": [
    "dgk_df['PurchDate'].hist(figsize =(10,4),bins =730)"
   ]
  },
  {
   "cell_type": "markdown",
   "metadata": {
    "id": "1I_RhTj10W6h"
   },
   "source": [
    "#About purchase date\n",
    "It looks making more sense to consider day of week"
   ]
  },
  {
   "cell_type": "code",
   "execution_count": 20,
   "metadata": {
    "colab": {
     "base_uri": "https://localhost:8080/"
    },
    "id": "xhhVFKeOuBsG",
    "outputId": "e7ba489b-f677-4b84-9b7a-d299ff4f719a"
   },
   "outputs": [
    {
     "name": "stdout",
     "output_type": "stream",
     "text": [
      "       RefId  IsBadBuy  PurchDate Auction  VehYear  VehicleAge       Make  \\\n",
      "0          1         0 2009-12-07   ADESA     2006           3      MAZDA   \n",
      "1          2         0 2009-12-07   ADESA     2004           5      DODGE   \n",
      "2          3         0 2009-12-07   ADESA     2005           4      DODGE   \n",
      "3          4         0 2009-12-07   ADESA     2004           5      DODGE   \n",
      "4          5         0 2009-12-07   ADESA     2005           4       FORD   \n",
      "...      ...       ...        ...     ...      ...         ...        ...   \n",
      "72978  73010         1 2009-12-02   ADESA     2001           8    MERCURY   \n",
      "72979  73011         0 2009-12-02   ADESA     2007           2  CHEVROLET   \n",
      "72980  73012         0 2009-12-02   ADESA     2005           4       JEEP   \n",
      "72981  73013         0 2009-12-02   ADESA     2006           3  CHEVROLET   \n",
      "72982  73014         0 2009-12-02   ADESA     2006           3      MAZDA   \n",
      "\n",
      "                      Model Trim           SubModel  ...  \\\n",
      "0                    MAZDA3    i         4D SEDAN I  ...   \n",
      "1       1500 RAM PICKUP 2WD   ST  QUAD CAB 4.7L SLT  ...   \n",
      "2                STRATUS V6  SXT   4D SEDAN SXT FFV  ...   \n",
      "3                      NEON  SXT           4D SEDAN  ...   \n",
      "4                     FOCUS  ZX3       2D COUPE ZX3  ...   \n",
      "...                     ...  ...                ...  ...   \n",
      "72978                 SABLE   GS        4D SEDAN GS  ...   \n",
      "72979             MALIBU 4C   LS        4D SEDAN LS  ...   \n",
      "72980  GRAND CHEROKEE 2WD V  Lar    4D WAGON LAREDO  ...   \n",
      "72981                IMPALA   LS        4D SEDAN LS  ...   \n",
      "72982                MAZDA6    s         4D SEDAN S  ...   \n",
      "\n",
      "      MMRCurrentRetailCleanPrice PRIMEUNIT  AUCGUART  BYRNO  VNZIP1 VNST  \\\n",
      "0                        12409.0       NaN       NaN  21973   33619   FL   \n",
      "1                        12791.0       NaN       NaN  19638   33619   FL   \n",
      "2                         8702.0       NaN       NaN  19638   33619   FL   \n",
      "3                         5518.0       NaN       NaN  19638   33619   FL   \n",
      "4                         7911.0       NaN       NaN  19638   33619   FL   \n",
      "...                          ...       ...       ...    ...     ...  ...   \n",
      "72978                     5937.0       NaN       NaN  18111   30212   GA   \n",
      "72979                    11652.0       NaN       NaN  18881   30212   GA   \n",
      "72980                    14402.0       NaN       NaN  18111   30212   GA   \n",
      "72981                    11228.0       NaN       NaN  18881   30212   GA   \n",
      "72982                    13246.0       NaN       NaN  18111   30212   GA   \n",
      "\n",
      "      VehBCost IsOnlineSale  WarrantyCost        dow  \n",
      "0       7100.0            0          1113     Monday  \n",
      "1       7600.0            0          1053     Monday  \n",
      "2       4900.0            0          1389     Monday  \n",
      "3       4100.0            0           630     Monday  \n",
      "4       4000.0            0          1020     Monday  \n",
      "...        ...          ...           ...        ...  \n",
      "72978   4200.0            0           993  Wednesday  \n",
      "72979   6200.0            0          1038  Wednesday  \n",
      "72980   8200.0            0          1893  Wednesday  \n",
      "72981   7000.0            0          1974  Wednesday  \n",
      "72982   8000.0            0          1313  Wednesday  \n",
      "\n",
      "[72983 rows x 35 columns]\n"
     ]
    }
   ],
   "source": [
    "import datetime as dt\n",
    "def get_day(df):\n",
    "    df['date1'] = pd.to_datetime(df['PurchDate'])\n",
    "    df['dow']=df['date1'].dt.day_name()  # \n",
    "    return (df)\n",
    "dgk_df = get_day(dgk_df)\n",
    "del dgk_df['date1']\n",
    "print(dgk_df) # see the last column\n"
   ]
  },
  {
   "cell_type": "code",
   "execution_count": 21,
   "metadata": {
    "colab": {
     "base_uri": "https://localhost:8080/",
     "height": 285
    },
    "id": "yKmJ5gdUzNHR",
    "outputId": "292402ec-3f7e-40b2-ea00-f824cde06132"
   },
   "outputs": [
    {
     "data": {
      "text/plain": [
       "<matplotlib.axes._subplots.AxesSubplot at 0x7fc87bee8a10>"
      ]
     },
     "execution_count": 21,
     "metadata": {},
     "output_type": "execute_result"
    },
    {
     "data": {
      "image/png": "[encoded data removed]",
      "text/plain": [
       "<Figure size 720x288 with 1 Axes>"
      ]
     },
     "metadata": {
      "needs_background": "light"
     },
     "output_type": "display_data"
    }
   ],
   "source": [
    "dgk_df['dow'].hist(figsize =(10,4),bins =12)"
   ]
  },
  {
   "cell_type": "markdown",
   "metadata": {
    "id": "ZzPMQWNO467c"
   },
   "source": [
    "Distributions of all price related columns look similar, they might be correlated."
   ]
  },
  {
   "cell_type": "code",
   "execution_count": 22,
   "metadata": {
    "colab": {
     "base_uri": "https://localhost:8080/",
     "height": 1000
    },
    "id": "KZhT2O8F5H8f",
    "outputId": "3fba4cf9-9d8f-4dda-e835-190656af55c7"
   },
   "outputs": [
    {
     "data": {
      "image/png": "[encoded data removed]",
      "text/plain": [
       "<Figure size 2160x1440 with 2 Axes>"
      ]
     },
     "metadata": {
      "needs_background": "light"
     },
     "output_type": "display_data"
    }
   ],
   "source": [
    "fig, ax = plt.subplots(figsize=(30, 20))\n",
    "dataplot = sns.heatmap(dgk_df[num_features].corr(), cmap=\"YlGnBu\", annot=True)"
   ]
  },
  {
   "cell_type": "markdown",
   "metadata": {
    "id": "FwDl8Dum7u-C"
   },
   "source": [
    "Obviously now, the price columns are highly correlated. Good to pick one of them for modeling purpose"
   ]
  },
  {
   "cell_type": "code",
   "execution_count": 23,
   "metadata": {
    "colab": {
     "base_uri": "https://localhost:8080/"
    },
    "id": "dpdXFH0l8Dgk",
    "outputId": "e836e409-62b3-4ae3-e7fb-781f097a864e"
   },
   "outputs": [
    {
     "name": "stdout",
     "output_type": "stream",
     "text": [
      "<class 'pandas.core.frame.DataFrame'>\n",
      "RangeIndex: 72983 entries, 0 to 72982\n",
      "Data columns (total 35 columns):\n",
      " #   Column                             Non-Null Count  Dtype         \n",
      "---  ------                             --------------  -----         \n",
      " 0   RefId                              72983 non-null  int64         \n",
      " 1   IsBadBuy                           72983 non-null  int64         \n",
      " 2   PurchDate                          72983 non-null  datetime64[ns]\n",
      " 3   Auction                            72983 non-null  object        \n",
      " 4   VehYear                            72983 non-null  int64         \n",
      " 5   VehicleAge                         72983 non-null  int64         \n",
      " 6   Make                               72983 non-null  object        \n",
      " 7   Model                              72983 non-null  object        \n",
      " 8   Trim                               70623 non-null  object        \n",
      " 9   SubModel                           72975 non-null  object        \n",
      " 10  Color                              72975 non-null  object        \n",
      " 11  Transmission                       72974 non-null  object        \n",
      " 12  WheelTypeID                        69814 non-null  float64       \n",
      " 13  WheelType                          69809 non-null  object        \n",
      " 14  VehOdo                             72983 non-null  int64         \n",
      " 15  Nationality                        72978 non-null  object        \n",
      " 16  Size                               72978 non-null  object        \n",
      " 17  TopThreeAmericanName               72978 non-null  object        \n",
      " 18  MMRAcquisitionAuctionAveragePrice  72965 non-null  float64       \n",
      " 19  MMRAcquisitionAuctionCleanPrice    72965 non-null  float64       \n",
      " 20  MMRAcquisitionRetailAveragePrice   72965 non-null  float64       \n",
      " 21  MMRAcquisitonRetailCleanPrice      72965 non-null  float64       \n",
      " 22  MMRCurrentAuctionAveragePrice      72668 non-null  float64       \n",
      " 23  MMRCurrentAuctionCleanPrice        72668 non-null  float64       \n",
      " 24  MMRCurrentRetailAveragePrice       72668 non-null  float64       \n",
      " 25  MMRCurrentRetailCleanPrice         72668 non-null  float64       \n",
      " 26  PRIMEUNIT                          3419 non-null   object        \n",
      " 27  AUCGUART                           3419 non-null   object        \n",
      " 28  BYRNO                              72983 non-null  int64         \n",
      " 29  VNZIP1                             72983 non-null  int64         \n",
      " 30  VNST                               72983 non-null  object        \n",
      " 31  VehBCost                           72983 non-null  float64       \n",
      " 32  IsOnlineSale                       72983 non-null  int64         \n",
      " 33  WarrantyCost                       72983 non-null  int64         \n",
      " 34  dow                                72983 non-null  object        \n",
      "dtypes: datetime64[ns](1), float64(10), int64(9), object(15)\n",
      "memory usage: 19.5+ MB\n"
     ]
    }
   ],
   "source": [
    "dgk_df.info()"
   ]
  },
  {
   "cell_type": "markdown",
   "metadata": {
    "id": "4TjvGTXVBdvF"
   },
   "source": [
    "now we include the day instead of the purchase date"
   ]
  },
  {
   "cell_type": "code",
   "execution_count": 24,
   "metadata": {
    "colab": {
     "base_uri": "https://localhost:8080/",
     "height": 309
    },
    "id": "5l98TnpMBp1G",
    "outputId": "716d3187-3514-40cf-b0ae-1dd8e6ee118b"
   },
   "outputs": [
    {
     "name": "stdout",
     "output_type": "stream",
     "text": [
      "Index(['Auction', 'Make', 'Model', 'Trim', 'SubModel', 'Color', 'Transmission',\n",
      "       'WheelType', 'Nationality', 'Size', 'TopThreeAmericanName', 'PRIMEUNIT',\n",
      "       'AUCGUART', 'VNST', 'dow'],\n",
      "      dtype='object')\n"
     ]
    },
    {
     "data": {
      "text/html": [
       "\n",
       "  <div id=\"df-bc2df087-d4db-40ac-937d-a54367139908\">\n",
       "    <div class=\"colab-df-container\">\n",
       "      <div>\n",
       "<style scoped>\n",
       "    .dataframe tbody tr th:only-of-type {\n",
       "        vertical-align: middle;\n",
       "    }\n",
       "\n",
       "    .dataframe tbody tr th {\n",
       "        vertical-align: top;\n",
       "    }\n",
       "\n",
       "    .dataframe thead th {\n",
       "        text-align: right;\n",
       "    }\n",
       "</style>\n",
       "<table border=\"1\" class=\"dataframe\">\n",
       "  <thead>\n",
       "    <tr style=\"text-align: right;\">\n",
       "      <th></th>\n",
       "      <th>Auction</th>\n",
       "      <th>Make</th>\n",
       "      <th>Model</th>\n",
       "      <th>Trim</th>\n",
       "      <th>SubModel</th>\n",
       "      <th>Color</th>\n",
       "      <th>Transmission</th>\n",
       "      <th>WheelType</th>\n",
       "      <th>Nationality</th>\n",
       "      <th>Size</th>\n",
       "      <th>TopThreeAmericanName</th>\n",
       "      <th>PRIMEUNIT</th>\n",
       "      <th>AUCGUART</th>\n",
       "      <th>VNST</th>\n",
       "      <th>dow</th>\n",
       "    </tr>\n",
       "  </thead>\n",
       "  <tbody>\n",
       "    <tr>\n",
       "      <th>count</th>\n",
       "      <td>72983</td>\n",
       "      <td>72983</td>\n",
       "      <td>72983</td>\n",
       "      <td>70623</td>\n",
       "      <td>72975</td>\n",
       "      <td>72975</td>\n",
       "      <td>72974</td>\n",
       "      <td>69809</td>\n",
       "      <td>72978</td>\n",
       "      <td>72978</td>\n",
       "      <td>72978</td>\n",
       "      <td>3419</td>\n",
       "      <td>3419</td>\n",
       "      <td>72983</td>\n",
       "      <td>72983</td>\n",
       "    </tr>\n",
       "    <tr>\n",
       "      <th>unique</th>\n",
       "      <td>3</td>\n",
       "      <td>33</td>\n",
       "      <td>1063</td>\n",
       "      <td>134</td>\n",
       "      <td>863</td>\n",
       "      <td>16</td>\n",
       "      <td>3</td>\n",
       "      <td>3</td>\n",
       "      <td>4</td>\n",
       "      <td>12</td>\n",
       "      <td>4</td>\n",
       "      <td>2</td>\n",
       "      <td>2</td>\n",
       "      <td>37</td>\n",
       "      <td>7</td>\n",
       "    </tr>\n",
       "    <tr>\n",
       "      <th>top</th>\n",
       "      <td>MANHEIM</td>\n",
       "      <td>CHEVROLET</td>\n",
       "      <td>PT CRUISER</td>\n",
       "      <td>Bas</td>\n",
       "      <td>4D SEDAN</td>\n",
       "      <td>SILVER</td>\n",
       "      <td>AUTO</td>\n",
       "      <td>Alloy</td>\n",
       "      <td>AMERICAN</td>\n",
       "      <td>MEDIUM</td>\n",
       "      <td>GM</td>\n",
       "      <td>NO</td>\n",
       "      <td>GREEN</td>\n",
       "      <td>TX</td>\n",
       "      <td>Wednesday</td>\n",
       "    </tr>\n",
       "    <tr>\n",
       "      <th>freq</th>\n",
       "      <td>41043</td>\n",
       "      <td>17248</td>\n",
       "      <td>2329</td>\n",
       "      <td>13950</td>\n",
       "      <td>15236</td>\n",
       "      <td>14875</td>\n",
       "      <td>70398</td>\n",
       "      <td>36050</td>\n",
       "      <td>61028</td>\n",
       "      <td>30785</td>\n",
       "      <td>25314</td>\n",
       "      <td>3357</td>\n",
       "      <td>3340</td>\n",
       "      <td>13596</td>\n",
       "      <td>24029</td>\n",
       "    </tr>\n",
       "  </tbody>\n",
       "</table>\n",
       "</div>\n",
       "      <button class=\"colab-df-convert\" onclick=\"convertToInteractive('df-bc2df087-d4db-40ac-937d-a54367139908')\"\n",
       "              title=\"Convert this dataframe to an interactive table.\"\n",
       "              style=\"display:none;\">\n",
       "        \n",
       "  <svg xmlns=\"http://www.w3.org/2000/svg\" height=\"24px\"viewBox=\"0 0 24 24\"\n",
       "       width=\"24px\">\n",
       "    <path d=\"M0 0h24v24H0V0z\" fill=\"none\"/>\n",
       "    <path d=\"M18.56 5.44l.94 2.06.94-2.06 2.06-.94-2.06-.94-.94-2.06-.94 2.06-2.06.94zm-11 1L8.5 8.5l.94-2.06 2.06-.94-2.06-.94L8.5 2.5l-.94 2.06-2.06.94zm10 10l.94 2.06.94-2.06 2.06-.94-2.06-.94-.94-2.06-.94 2.06-2.06.94z\"/><path d=\"M17.41 7.96l-1.37-1.37c-.4-.4-.92-.59-1.43-.59-.52 0-1.04.2-1.43.59L10.3 9.45l-7.72 7.72c-.78.78-.78 2.05 0 2.83L4 21.41c.39.39.9.59 1.41.59.51 0 1.02-.2 1.41-.59l7.78-7.78 2.81-2.81c.8-.78.8-2.07 0-2.86zM5.41 20L4 18.59l7.72-7.72 1.47 1.35L5.41 20z\"/>\n",
       "  </svg>\n",
       "      </button>\n",
       "      \n",
       "  <style>\n",
       "    .colab-df-container {\n",
       "      display:flex;\n",
       "      flex-wrap:wrap;\n",
       "      gap: 12px;\n",
       "    }\n",
       "\n",
       "    .colab-df-convert {\n",
       "      background-color: #E8F0FE;\n",
       "      border: none;\n",
       "      border-radius: 50%;\n",
       "      cursor: pointer;\n",
       "      display: none;\n",
       "      fill: #1967D2;\n",
       "      height: 32px;\n",
       "      padding: 0 0 0 0;\n",
       "      width: 32px;\n",
       "    }\n",
       "\n",
       "    .colab-df-convert:hover {\n",
       "      background-color: #E2EBFA;\n",
       "      box-shadow: 0px 1px 2px rgba(60, 64, 67, 0.3), 0px 1px 3px 1px rgba(60, 64, 67, 0.15);\n",
       "      fill: #174EA6;\n",
       "    }\n",
       "\n",
       "    [theme=dark] .colab-df-convert {\n",
       "      background-color: #3B4455;\n",
       "      fill: #D2E3FC;\n",
       "    }\n",
       "\n",
       "    [theme=dark] .colab-df-convert:hover {\n",
       "      background-color: #434B5C;\n",
       "      box-shadow: 0px 1px 3px 1px rgba(0, 0, 0, 0.15);\n",
       "      filter: drop-shadow(0px 1px 2px rgba(0, 0, 0, 0.3));\n",
       "      fill: #FFFFFF;\n",
       "    }\n",
       "  </style>\n",
       "\n",
       "      <script>\n",
       "        const buttonEl =\n",
       "          document.querySelector('#df-bc2df087-d4db-40ac-937d-a54367139908 button.colab-df-convert');\n",
       "        buttonEl.style.display =\n",
       "          google.colab.kernel.accessAllowed ? 'block' : 'none';\n",
       "\n",
       "        async function convertToInteractive(key) {\n",
       "          const element = document.querySelector('#df-bc2df087-d4db-40ac-937d-a54367139908');\n",
       "          const dataTable =\n",
       "            await google.colab.kernel.invokeFunction('convertToInteractive',\n",
       "                                                     [key], {});\n",
       "          if (!dataTable) return;\n",
       "\n",
       "          const docLinkHtml = 'Like what you see? Visit the ' +\n",
       "            '<a target=\"_blank\" href=https://colab.research.google.com/notebooks/data_table.ipynb>data table notebook</a>'\n",
       "            + ' to learn more about interactive tables.';\n",
       "          element.innerHTML = '';\n",
       "          dataTable['output_type'] = 'display_data';\n",
       "          await google.colab.output.renderOutput(dataTable, element);\n",
       "          const docLink = document.createElement('div');\n",
       "          docLink.innerHTML = docLinkHtml;\n",
       "          element.appendChild(docLink);\n",
       "        }\n",
       "      </script>\n",
       "    </div>\n",
       "  </div>\n",
       "  "
      ],
      "text/plain": [
       "        Auction       Make       Model   Trim  SubModel   Color Transmission  \\\n",
       "count     72983      72983       72983  70623     72975   72975        72974   \n",
       "unique        3         33        1063    134       863      16            3   \n",
       "top     MANHEIM  CHEVROLET  PT CRUISER    Bas  4D SEDAN  SILVER         AUTO   \n",
       "freq      41043      17248        2329  13950     15236   14875        70398   \n",
       "\n",
       "       WheelType Nationality    Size TopThreeAmericanName PRIMEUNIT AUCGUART  \\\n",
       "count      69809       72978   72978                72978      3419     3419   \n",
       "unique         3           4      12                    4         2        2   \n",
       "top        Alloy    AMERICAN  MEDIUM                   GM        NO    GREEN   \n",
       "freq       36050       61028   30785                25314      3357     3340   \n",
       "\n",
       "         VNST        dow  \n",
       "count   72983      72983  \n",
       "unique     37          7  \n",
       "top        TX  Wednesday  \n",
       "freq    13596      24029  "
      ]
     },
     "execution_count": 24,
     "metadata": {},
     "output_type": "execute_result"
    }
   ],
   "source": [
    "cat_features = dgk_df.select_dtypes(include =['object']).columns\n",
    "print(cat_features)\n",
    "dgk_df[cat_features].describe()"
   ]
  },
  {
   "cell_type": "markdown",
   "metadata": {
    "id": "nRxnSztIDAn_"
   },
   "source": [
    "# Select features\n",
    "remove the following:\n",
    "1.   WheelTypeID: redundant\n",
    "2.   RefID, BYRNO: just IDs\n",
    "3.   MMRCurrentAuctionCleanPrice: high correlated with MMRCurrentAuctionAveragePrice\n",
    "4.   MMRCurrentRetailCleanPrice: high correlated with MMRCurrentAuctionAveragePrice\n",
    "5.   MMRAcquisitionAuctionCleanPrice: high correlated with MMRCurrentAuctionAveragePrice\n",
    "6. MMRAcquisitonRetailCleanPrice MMRAcquisitonRetailCleanPrice MMRAcquisitionRetailAveragePrice MMRCurrentAuctionAveragePrice MMRCurrentRetailAveragePrice: all high correlated with MMRCurrentAuctionAveragePrice\n",
    "7. VehYear: high correlated with 'VehicleAge'\n",
    "8. VNZIP1: too many options\n",
    "9. PurchDate: replaced with day of the week\n",
    "10. Make: too many options\n",
    "11. Model: too many options\n",
    "12. SubModel: too many options\n",
    "13. Trim: too many options\n",
    "14. VNST: too many options\n",
    "15. Color: too many options\n",
    "\n"
   ]
  },
  {
   "cell_type": "code",
   "execution_count": 25,
   "metadata": {
    "colab": {
     "base_uri": "https://localhost:8080/"
    },
    "id": "5GwxcVrjFowX",
    "outputId": "d02f31b9-d3b9-4080-b712-df6c62cadeed"
   },
   "outputs": [
    {
     "data": {
      "text/plain": [
       "['RefId',\n",
       " 'BYRNO',\n",
       " 'WheelTypeID',\n",
       " 'MMRCurrentAuctionCleanPrice',\n",
       " 'MMRCurrentRetailCleanPrice',\n",
       " 'MMRAcquisitionAuctionCleanPrice',\n",
       " 'MMRAcquisitonRetailCleanPrice',\n",
       " 'MMRAcquisitionRetailAveragePrice',\n",
       " 'MMRCurrentAuctionAveragePrice',\n",
       " 'MMRCurrentRetailAveragePrice',\n",
       " 'VehYear',\n",
       " 'VNZIP1',\n",
       " 'PurchDate',\n",
       " 'Make',\n",
       " 'Model',\n",
       " 'SubModel',\n",
       " 'Trim',\n",
       " 'VNST',\n",
       " 'Color']"
      ]
     },
     "execution_count": 25,
     "metadata": {},
     "output_type": "execute_result"
    }
   ],
   "source": [
    "col_2_drop_ = \"RefId BYRNO WheelTypeID MMRCurrentAuctionCleanPrice MMRCurrentRetailCleanPrice MMRAcquisitionAuctionCleanPrice \\\n",
    "MMRAcquisitonRetailCleanPrice MMRAcquisitionRetailAveragePrice MMRCurrentAuctionAveragePrice MMRCurrentRetailAveragePrice \\\n",
    "VehYear VNZIP1 PurchDate Make Model SubModel Trim VNST Color\"\n",
    "col_2_drop = col_2_drop_.split()\n",
    "col_2_drop\n",
    "#test_df"
   ]
  },
  {
   "cell_type": "code",
   "execution_count": 26,
   "metadata": {
    "colab": {
     "base_uri": "https://localhost:8080/"
    },
    "id": "RIgcbS84DERR",
    "outputId": "a0a7b6a8-7a44-4a9a-d605-687a54769151"
   },
   "outputs": [
    {
     "name": "stdout",
     "output_type": "stream",
     "text": [
      "<class 'pandas.core.frame.DataFrame'>\n",
      "RangeIndex: 72983 entries, 0 to 72982\n",
      "Data columns (total 16 columns):\n",
      " #   Column                             Non-Null Count  Dtype  \n",
      "---  ------                             --------------  -----  \n",
      " 0   IsBadBuy                           72983 non-null  int64  \n",
      " 1   Auction                            72983 non-null  object \n",
      " 2   VehicleAge                         72983 non-null  int64  \n",
      " 3   Transmission                       72974 non-null  object \n",
      " 4   WheelType                          69809 non-null  object \n",
      " 5   VehOdo                             72983 non-null  int64  \n",
      " 6   Nationality                        72978 non-null  object \n",
      " 7   Size                               72978 non-null  object \n",
      " 8   TopThreeAmericanName               72978 non-null  object \n",
      " 9   MMRAcquisitionAuctionAveragePrice  72965 non-null  float64\n",
      " 10  PRIMEUNIT                          3419 non-null   object \n",
      " 11  AUCGUART                           3419 non-null   object \n",
      " 12  VehBCost                           72983 non-null  float64\n",
      " 13  IsOnlineSale                       72983 non-null  int64  \n",
      " 14  WarrantyCost                       72983 non-null  int64  \n",
      " 15  dow                                72983 non-null  object \n",
      "dtypes: float64(2), int64(5), object(9)\n",
      "memory usage: 8.9+ MB\n"
     ]
    }
   ],
   "source": [
    "dgk_df.drop(col_2_drop, axis=1, inplace=True)\n",
    "dgk_df.info()"
   ]
  },
  {
   "cell_type": "code",
   "execution_count": 27,
   "metadata": {
    "colab": {
     "base_uri": "https://localhost:8080/",
     "height": 229
    },
    "id": "bed3bsqTQBta",
    "outputId": "8342cb85-2155-4d93-caa7-46c48a7f44df"
   },
   "outputs": [
    {
     "name": "stdout",
     "output_type": "stream",
     "text": [
      "Index(['Auction', 'Transmission', 'WheelType', 'Nationality', 'Size',\n",
      "       'TopThreeAmericanName', 'PRIMEUNIT', 'AUCGUART', 'dow'],\n",
      "      dtype='object')\n"
     ]
    },
    {
     "data": {
      "text/html": [
       "\n",
       "  <div id=\"df-2860f281-4a64-42d1-b65b-9b5cf8af7e9b\">\n",
       "    <div class=\"colab-df-container\">\n",
       "      <div>\n",
       "<style scoped>\n",
       "    .dataframe tbody tr th:only-of-type {\n",
       "        vertical-align: middle;\n",
       "    }\n",
       "\n",
       "    .dataframe tbody tr th {\n",
       "        vertical-align: top;\n",
       "    }\n",
       "\n",
       "    .dataframe thead th {\n",
       "        text-align: right;\n",
       "    }\n",
       "</style>\n",
       "<table border=\"1\" class=\"dataframe\">\n",
       "  <thead>\n",
       "    <tr style=\"text-align: right;\">\n",
       "      <th></th>\n",
       "      <th>Auction</th>\n",
       "      <th>Transmission</th>\n",
       "      <th>WheelType</th>\n",
       "      <th>Nationality</th>\n",
       "      <th>Size</th>\n",
       "      <th>TopThreeAmericanName</th>\n",
       "      <th>PRIMEUNIT</th>\n",
       "      <th>AUCGUART</th>\n",
       "      <th>dow</th>\n",
       "    </tr>\n",
       "  </thead>\n",
       "  <tbody>\n",
       "    <tr>\n",
       "      <th>count</th>\n",
       "      <td>72983</td>\n",
       "      <td>72974</td>\n",
       "      <td>69809</td>\n",
       "      <td>72978</td>\n",
       "      <td>72978</td>\n",
       "      <td>72978</td>\n",
       "      <td>3419</td>\n",
       "      <td>3419</td>\n",
       "      <td>72983</td>\n",
       "    </tr>\n",
       "    <tr>\n",
       "      <th>unique</th>\n",
       "      <td>3</td>\n",
       "      <td>3</td>\n",
       "      <td>3</td>\n",
       "      <td>4</td>\n",
       "      <td>12</td>\n",
       "      <td>4</td>\n",
       "      <td>2</td>\n",
       "      <td>2</td>\n",
       "      <td>7</td>\n",
       "    </tr>\n",
       "    <tr>\n",
       "      <th>top</th>\n",
       "      <td>MANHEIM</td>\n",
       "      <td>AUTO</td>\n",
       "      <td>Alloy</td>\n",
       "      <td>AMERICAN</td>\n",
       "      <td>MEDIUM</td>\n",
       "      <td>GM</td>\n",
       "      <td>NO</td>\n",
       "      <td>GREEN</td>\n",
       "      <td>Wednesday</td>\n",
       "    </tr>\n",
       "    <tr>\n",
       "      <th>freq</th>\n",
       "      <td>41043</td>\n",
       "      <td>70398</td>\n",
       "      <td>36050</td>\n",
       "      <td>61028</td>\n",
       "      <td>30785</td>\n",
       "      <td>25314</td>\n",
       "      <td>3357</td>\n",
       "      <td>3340</td>\n",
       "      <td>24029</td>\n",
       "    </tr>\n",
       "  </tbody>\n",
       "</table>\n",
       "</div>\n",
       "      <button class=\"colab-df-convert\" onclick=\"convertToInteractive('df-2860f281-4a64-42d1-b65b-9b5cf8af7e9b')\"\n",
       "              title=\"Convert this dataframe to an interactive table.\"\n",
       "              style=\"display:none;\">\n",
       "        \n",
       "  <svg xmlns=\"http://www.w3.org/2000/svg\" height=\"24px\"viewBox=\"0 0 24 24\"\n",
       "       width=\"24px\">\n",
       "    <path d=\"M0 0h24v24H0V0z\" fill=\"none\"/>\n",
       "    <path d=\"M18.56 5.44l.94 2.06.94-2.06 2.06-.94-2.06-.94-.94-2.06-.94 2.06-2.06.94zm-11 1L8.5 8.5l.94-2.06 2.06-.94-2.06-.94L8.5 2.5l-.94 2.06-2.06.94zm10 10l.94 2.06.94-2.06 2.06-.94-2.06-.94-.94-2.06-.94 2.06-2.06.94z\"/><path d=\"M17.41 7.96l-1.37-1.37c-.4-.4-.92-.59-1.43-.59-.52 0-1.04.2-1.43.59L10.3 9.45l-7.72 7.72c-.78.78-.78 2.05 0 2.83L4 21.41c.39.39.9.59 1.41.59.51 0 1.02-.2 1.41-.59l7.78-7.78 2.81-2.81c.8-.78.8-2.07 0-2.86zM5.41 20L4 18.59l7.72-7.72 1.47 1.35L5.41 20z\"/>\n",
       "  </svg>\n",
       "      </button>\n",
       "      \n",
       "  <style>\n",
       "    .colab-df-container {\n",
       "      display:flex;\n",
       "      flex-wrap:wrap;\n",
       "      gap: 12px;\n",
       "    }\n",
       "\n",
       "    .colab-df-convert {\n",
       "      background-color: #E8F0FE;\n",
       "      border: none;\n",
       "      border-radius: 50%;\n",
       "      cursor: pointer;\n",
       "      display: none;\n",
       "      fill: #1967D2;\n",
       "      height: 32px;\n",
       "      padding: 0 0 0 0;\n",
       "      width: 32px;\n",
       "    }\n",
       "\n",
       "    .colab-df-convert:hover {\n",
       "      background-color: #E2EBFA;\n",
       "      box-shadow: 0px 1px 2px rgba(60, 64, 67, 0.3), 0px 1px 3px 1px rgba(60, 64, 67, 0.15);\n",
       "      fill: #174EA6;\n",
       "    }\n",
       "\n",
       "    [theme=dark] .colab-df-convert {\n",
       "      background-color: #3B4455;\n",
       "      fill: #D2E3FC;\n",
       "    }\n",
       "\n",
       "    [theme=dark] .colab-df-convert:hover {\n",
       "      background-color: #434B5C;\n",
       "      box-shadow: 0px 1px 3px 1px rgba(0, 0, 0, 0.15);\n",
       "      filter: drop-shadow(0px 1px 2px rgba(0, 0, 0, 0.3));\n",
       "      fill: #FFFFFF;\n",
       "    }\n",
       "  </style>\n",
       "\n",
       "      <script>\n",
       "        const buttonEl =\n",
       "          document.querySelector('#df-2860f281-4a64-42d1-b65b-9b5cf8af7e9b button.colab-df-convert');\n",
       "        buttonEl.style.display =\n",
       "          google.colab.kernel.accessAllowed ? 'block' : 'none';\n",
       "\n",
       "        async function convertToInteractive(key) {\n",
       "          const element = document.querySelector('#df-2860f281-4a64-42d1-b65b-9b5cf8af7e9b');\n",
       "          const dataTable =\n",
       "            await google.colab.kernel.invokeFunction('convertToInteractive',\n",
       "                                                     [key], {});\n",
       "          if (!dataTable) return;\n",
       "\n",
       "          const docLinkHtml = 'Like what you see? Visit the ' +\n",
       "            '<a target=\"_blank\" href=https://colab.research.google.com/notebooks/data_table.ipynb>data table notebook</a>'\n",
       "            + ' to learn more about interactive tables.';\n",
       "          element.innerHTML = '';\n",
       "          dataTable['output_type'] = 'display_data';\n",
       "          await google.colab.output.renderOutput(dataTable, element);\n",
       "          const docLink = document.createElement('div');\n",
       "          docLink.innerHTML = docLinkHtml;\n",
       "          element.appendChild(docLink);\n",
       "        }\n",
       "      </script>\n",
       "    </div>\n",
       "  </div>\n",
       "  "
      ],
      "text/plain": [
       "        Auction Transmission WheelType Nationality    Size  \\\n",
       "count     72983        72974     69809       72978   72978   \n",
       "unique        3            3         3           4      12   \n",
       "top     MANHEIM         AUTO     Alloy    AMERICAN  MEDIUM   \n",
       "freq      41043        70398     36050       61028   30785   \n",
       "\n",
       "       TopThreeAmericanName PRIMEUNIT AUCGUART        dow  \n",
       "count                 72978      3419     3419      72983  \n",
       "unique                    4         2        2          7  \n",
       "top                      GM        NO    GREEN  Wednesday  \n",
       "freq                  25314      3357     3340      24029  "
      ]
     },
     "execution_count": 27,
     "metadata": {},
     "output_type": "execute_result"
    }
   ],
   "source": [
    "cat_features = dgk_df.select_dtypes(include =['object']).columns\n",
    "print(cat_features)\n",
    "dgk_df[cat_features].describe()"
   ]
  },
  {
   "cell_type": "code",
   "execution_count": 28,
   "metadata": {
    "colab": {
     "base_uri": "https://localhost:8080/",
     "height": 557
    },
    "id": "lie9imLnQLUX",
    "outputId": "9ffd1049-8aed-4c0c-83bf-2a32d234d37c"
   },
   "outputs": [
    {
     "data": {
      "text/html": [
       "\n",
       "  <div id=\"df-9239c3a5-c296-4224-b203-b985c1d6abea\">\n",
       "    <div class=\"colab-df-container\">\n",
       "      <div>\n",
       "<style scoped>\n",
       "    .dataframe tbody tr th:only-of-type {\n",
       "        vertical-align: middle;\n",
       "    }\n",
       "\n",
       "    .dataframe tbody tr th {\n",
       "        vertical-align: top;\n",
       "    }\n",
       "\n",
       "    .dataframe thead th {\n",
       "        text-align: right;\n",
       "    }\n",
       "</style>\n",
       "<table border=\"1\" class=\"dataframe\">\n",
       "  <thead>\n",
       "    <tr style=\"text-align: right;\">\n",
       "      <th></th>\n",
       "      <th>IsBadBuy</th>\n",
       "      <th>Auction</th>\n",
       "      <th>VehicleAge</th>\n",
       "      <th>Transmission</th>\n",
       "      <th>WheelType</th>\n",
       "      <th>VehOdo</th>\n",
       "      <th>Nationality</th>\n",
       "      <th>Size</th>\n",
       "      <th>TopThreeAmericanName</th>\n",
       "      <th>MMRAcquisitionAuctionAveragePrice</th>\n",
       "      <th>PRIMEUNIT</th>\n",
       "      <th>AUCGUART</th>\n",
       "      <th>VehBCost</th>\n",
       "      <th>IsOnlineSale</th>\n",
       "      <th>WarrantyCost</th>\n",
       "      <th>dow</th>\n",
       "    </tr>\n",
       "  </thead>\n",
       "  <tbody>\n",
       "    <tr>\n",
       "      <th>0</th>\n",
       "      <td>0</td>\n",
       "      <td>ADESA</td>\n",
       "      <td>3</td>\n",
       "      <td>AUTO</td>\n",
       "      <td>Alloy</td>\n",
       "      <td>89046</td>\n",
       "      <td>OTHER ASIAN</td>\n",
       "      <td>MEDIUM</td>\n",
       "      <td>OTHER</td>\n",
       "      <td>8155.0</td>\n",
       "      <td>NaN</td>\n",
       "      <td>NaN</td>\n",
       "      <td>7100.0</td>\n",
       "      <td>0</td>\n",
       "      <td>1113</td>\n",
       "      <td>Monday</td>\n",
       "    </tr>\n",
       "    <tr>\n",
       "      <th>1</th>\n",
       "      <td>0</td>\n",
       "      <td>ADESA</td>\n",
       "      <td>5</td>\n",
       "      <td>AUTO</td>\n",
       "      <td>Alloy</td>\n",
       "      <td>93593</td>\n",
       "      <td>AMERICAN</td>\n",
       "      <td>LARGE TRUCK</td>\n",
       "      <td>CHRYSLER</td>\n",
       "      <td>6854.0</td>\n",
       "      <td>NaN</td>\n",
       "      <td>NaN</td>\n",
       "      <td>7600.0</td>\n",
       "      <td>0</td>\n",
       "      <td>1053</td>\n",
       "      <td>Monday</td>\n",
       "    </tr>\n",
       "    <tr>\n",
       "      <th>2</th>\n",
       "      <td>0</td>\n",
       "      <td>ADESA</td>\n",
       "      <td>4</td>\n",
       "      <td>AUTO</td>\n",
       "      <td>Covers</td>\n",
       "      <td>73807</td>\n",
       "      <td>AMERICAN</td>\n",
       "      <td>MEDIUM</td>\n",
       "      <td>CHRYSLER</td>\n",
       "      <td>3202.0</td>\n",
       "      <td>NaN</td>\n",
       "      <td>NaN</td>\n",
       "      <td>4900.0</td>\n",
       "      <td>0</td>\n",
       "      <td>1389</td>\n",
       "      <td>Monday</td>\n",
       "    </tr>\n",
       "    <tr>\n",
       "      <th>3</th>\n",
       "      <td>0</td>\n",
       "      <td>ADESA</td>\n",
       "      <td>5</td>\n",
       "      <td>AUTO</td>\n",
       "      <td>Alloy</td>\n",
       "      <td>65617</td>\n",
       "      <td>AMERICAN</td>\n",
       "      <td>COMPACT</td>\n",
       "      <td>CHRYSLER</td>\n",
       "      <td>1893.0</td>\n",
       "      <td>NaN</td>\n",
       "      <td>NaN</td>\n",
       "      <td>4100.0</td>\n",
       "      <td>0</td>\n",
       "      <td>630</td>\n",
       "      <td>Monday</td>\n",
       "    </tr>\n",
       "    <tr>\n",
       "      <th>4</th>\n",
       "      <td>0</td>\n",
       "      <td>ADESA</td>\n",
       "      <td>4</td>\n",
       "      <td>MANUAL</td>\n",
       "      <td>Covers</td>\n",
       "      <td>69367</td>\n",
       "      <td>AMERICAN</td>\n",
       "      <td>COMPACT</td>\n",
       "      <td>FORD</td>\n",
       "      <td>3913.0</td>\n",
       "      <td>NaN</td>\n",
       "      <td>NaN</td>\n",
       "      <td>4000.0</td>\n",
       "      <td>0</td>\n",
       "      <td>1020</td>\n",
       "      <td>Monday</td>\n",
       "    </tr>\n",
       "    <tr>\n",
       "      <th>...</th>\n",
       "      <td>...</td>\n",
       "      <td>...</td>\n",
       "      <td>...</td>\n",
       "      <td>...</td>\n",
       "      <td>...</td>\n",
       "      <td>...</td>\n",
       "      <td>...</td>\n",
       "      <td>...</td>\n",
       "      <td>...</td>\n",
       "      <td>...</td>\n",
       "      <td>...</td>\n",
       "      <td>...</td>\n",
       "      <td>...</td>\n",
       "      <td>...</td>\n",
       "      <td>...</td>\n",
       "      <td>...</td>\n",
       "    </tr>\n",
       "    <tr>\n",
       "      <th>72978</th>\n",
       "      <td>1</td>\n",
       "      <td>ADESA</td>\n",
       "      <td>8</td>\n",
       "      <td>AUTO</td>\n",
       "      <td>Alloy</td>\n",
       "      <td>45234</td>\n",
       "      <td>AMERICAN</td>\n",
       "      <td>MEDIUM</td>\n",
       "      <td>FORD</td>\n",
       "      <td>1996.0</td>\n",
       "      <td>NaN</td>\n",
       "      <td>NaN</td>\n",
       "      <td>4200.0</td>\n",
       "      <td>0</td>\n",
       "      <td>993</td>\n",
       "      <td>Wednesday</td>\n",
       "    </tr>\n",
       "    <tr>\n",
       "      <th>72979</th>\n",
       "      <td>0</td>\n",
       "      <td>ADESA</td>\n",
       "      <td>2</td>\n",
       "      <td>AUTO</td>\n",
       "      <td>NaN</td>\n",
       "      <td>71759</td>\n",
       "      <td>AMERICAN</td>\n",
       "      <td>MEDIUM</td>\n",
       "      <td>GM</td>\n",
       "      <td>6418.0</td>\n",
       "      <td>NaN</td>\n",
       "      <td>NaN</td>\n",
       "      <td>6200.0</td>\n",
       "      <td>0</td>\n",
       "      <td>1038</td>\n",
       "      <td>Wednesday</td>\n",
       "    </tr>\n",
       "    <tr>\n",
       "      <th>72980</th>\n",
       "      <td>0</td>\n",
       "      <td>ADESA</td>\n",
       "      <td>4</td>\n",
       "      <td>AUTO</td>\n",
       "      <td>Alloy</td>\n",
       "      <td>88500</td>\n",
       "      <td>AMERICAN</td>\n",
       "      <td>MEDIUM SUV</td>\n",
       "      <td>CHRYSLER</td>\n",
       "      <td>8545.0</td>\n",
       "      <td>NaN</td>\n",
       "      <td>NaN</td>\n",
       "      <td>8200.0</td>\n",
       "      <td>0</td>\n",
       "      <td>1893</td>\n",
       "      <td>Wednesday</td>\n",
       "    </tr>\n",
       "    <tr>\n",
       "      <th>72981</th>\n",
       "      <td>0</td>\n",
       "      <td>ADESA</td>\n",
       "      <td>3</td>\n",
       "      <td>AUTO</td>\n",
       "      <td>Alloy</td>\n",
       "      <td>79554</td>\n",
       "      <td>AMERICAN</td>\n",
       "      <td>LARGE</td>\n",
       "      <td>GM</td>\n",
       "      <td>6420.0</td>\n",
       "      <td>NaN</td>\n",
       "      <td>NaN</td>\n",
       "      <td>7000.0</td>\n",
       "      <td>0</td>\n",
       "      <td>1974</td>\n",
       "      <td>Wednesday</td>\n",
       "    </tr>\n",
       "    <tr>\n",
       "      <th>72982</th>\n",
       "      <td>0</td>\n",
       "      <td>ADESA</td>\n",
       "      <td>3</td>\n",
       "      <td>AUTO</td>\n",
       "      <td>Alloy</td>\n",
       "      <td>66855</td>\n",
       "      <td>OTHER ASIAN</td>\n",
       "      <td>MEDIUM</td>\n",
       "      <td>OTHER</td>\n",
       "      <td>7535.0</td>\n",
       "      <td>NaN</td>\n",
       "      <td>NaN</td>\n",
       "      <td>8000.0</td>\n",
       "      <td>0</td>\n",
       "      <td>1313</td>\n",
       "      <td>Wednesday</td>\n",
       "    </tr>\n",
       "  </tbody>\n",
       "</table>\n",
       "<p>72983 rows × 16 columns</p>\n",
       "</div>\n",
       "      <button class=\"colab-df-convert\" onclick=\"convertToInteractive('df-9239c3a5-c296-4224-b203-b985c1d6abea')\"\n",
       "              title=\"Convert this dataframe to an interactive table.\"\n",
       "              style=\"display:none;\">\n",
       "        \n",
       "  <svg xmlns=\"http://www.w3.org/2000/svg\" height=\"24px\"viewBox=\"0 0 24 24\"\n",
       "       width=\"24px\">\n",
       "    <path d=\"M0 0h24v24H0V0z\" fill=\"none\"/>\n",
       "    <path d=\"M18.56 5.44l.94 2.06.94-2.06 2.06-.94-2.06-.94-.94-2.06-.94 2.06-2.06.94zm-11 1L8.5 8.5l.94-2.06 2.06-.94-2.06-.94L8.5 2.5l-.94 2.06-2.06.94zm10 10l.94 2.06.94-2.06 2.06-.94-2.06-.94-.94-2.06-.94 2.06-2.06.94z\"/><path d=\"M17.41 7.96l-1.37-1.37c-.4-.4-.92-.59-1.43-.59-.52 0-1.04.2-1.43.59L10.3 9.45l-7.72 7.72c-.78.78-.78 2.05 0 2.83L4 21.41c.39.39.9.59 1.41.59.51 0 1.02-.2 1.41-.59l7.78-7.78 2.81-2.81c.8-.78.8-2.07 0-2.86zM5.41 20L4 18.59l7.72-7.72 1.47 1.35L5.41 20z\"/>\n",
       "  </svg>\n",
       "      </button>\n",
       "      \n",
       "  <style>\n",
       "    .colab-df-container {\n",
       "      display:flex;\n",
       "      flex-wrap:wrap;\n",
       "      gap: 12px;\n",
       "    }\n",
       "\n",
       "    .colab-df-convert {\n",
       "      background-color: #E8F0FE;\n",
       "      border: none;\n",
       "      border-radius: 50%;\n",
       "      cursor: pointer;\n",
       "      display: none;\n",
       "      fill: #1967D2;\n",
       "      height: 32px;\n",
       "      padding: 0 0 0 0;\n",
       "      width: 32px;\n",
       "    }\n",
       "\n",
       "    .colab-df-convert:hover {\n",
       "      background-color: #E2EBFA;\n",
       "      box-shadow: 0px 1px 2px rgba(60, 64, 67, 0.3), 0px 1px 3px 1px rgba(60, 64, 67, 0.15);\n",
       "      fill: #174EA6;\n",
       "    }\n",
       "\n",
       "    [theme=dark] .colab-df-convert {\n",
       "      background-color: #3B4455;\n",
       "      fill: #D2E3FC;\n",
       "    }\n",
       "\n",
       "    [theme=dark] .colab-df-convert:hover {\n",
       "      background-color: #434B5C;\n",
       "      box-shadow: 0px 1px 3px 1px rgba(0, 0, 0, 0.15);\n",
       "      filter: drop-shadow(0px 1px 2px rgba(0, 0, 0, 0.3));\n",
       "      fill: #FFFFFF;\n",
       "    }\n",
       "  </style>\n",
       "\n",
       "      <script>\n",
       "        const buttonEl =\n",
       "          document.querySelector('#df-9239c3a5-c296-4224-b203-b985c1d6abea button.colab-df-convert');\n",
       "        buttonEl.style.display =\n",
       "          google.colab.kernel.accessAllowed ? 'block' : 'none';\n",
       "\n",
       "        async function convertToInteractive(key) {\n",
       "          const element = document.querySelector('#df-9239c3a5-c296-4224-b203-b985c1d6abea');\n",
       "          const dataTable =\n",
       "            await google.colab.kernel.invokeFunction('convertToInteractive',\n",
       "                                                     [key], {});\n",
       "          if (!dataTable) return;\n",
       "\n",
       "          const docLinkHtml = 'Like what you see? Visit the ' +\n",
       "            '<a target=\"_blank\" href=https://colab.research.google.com/notebooks/data_table.ipynb>data table notebook</a>'\n",
       "            + ' to learn more about interactive tables.';\n",
       "          element.innerHTML = '';\n",
       "          dataTable['output_type'] = 'display_data';\n",
       "          await google.colab.output.renderOutput(dataTable, element);\n",
       "          const docLink = document.createElement('div');\n",
       "          docLink.innerHTML = docLinkHtml;\n",
       "          element.appendChild(docLink);\n",
       "        }\n",
       "      </script>\n",
       "    </div>\n",
       "  </div>\n",
       "  "
      ],
      "text/plain": [
       "       IsBadBuy Auction  VehicleAge Transmission WheelType  VehOdo  \\\n",
       "0             0   ADESA           3         AUTO     Alloy   89046   \n",
       "1             0   ADESA           5         AUTO     Alloy   93593   \n",
       "2             0   ADESA           4         AUTO    Covers   73807   \n",
       "3             0   ADESA           5         AUTO     Alloy   65617   \n",
       "4             0   ADESA           4       MANUAL    Covers   69367   \n",
       "...         ...     ...         ...          ...       ...     ...   \n",
       "72978         1   ADESA           8         AUTO     Alloy   45234   \n",
       "72979         0   ADESA           2         AUTO       NaN   71759   \n",
       "72980         0   ADESA           4         AUTO     Alloy   88500   \n",
       "72981         0   ADESA           3         AUTO     Alloy   79554   \n",
       "72982         0   ADESA           3         AUTO     Alloy   66855   \n",
       "\n",
       "       Nationality         Size TopThreeAmericanName  \\\n",
       "0      OTHER ASIAN       MEDIUM                OTHER   \n",
       "1         AMERICAN  LARGE TRUCK             CHRYSLER   \n",
       "2         AMERICAN       MEDIUM             CHRYSLER   \n",
       "3         AMERICAN      COMPACT             CHRYSLER   \n",
       "4         AMERICAN      COMPACT                 FORD   \n",
       "...            ...          ...                  ...   \n",
       "72978     AMERICAN       MEDIUM                 FORD   \n",
       "72979     AMERICAN       MEDIUM                   GM   \n",
       "72980     AMERICAN   MEDIUM SUV             CHRYSLER   \n",
       "72981     AMERICAN        LARGE                   GM   \n",
       "72982  OTHER ASIAN       MEDIUM                OTHER   \n",
       "\n",
       "       MMRAcquisitionAuctionAveragePrice PRIMEUNIT AUCGUART  VehBCost  \\\n",
       "0                                 8155.0       NaN      NaN    7100.0   \n",
       "1                                 6854.0       NaN      NaN    7600.0   \n",
       "2                                 3202.0       NaN      NaN    4900.0   \n",
       "3                                 1893.0       NaN      NaN    4100.0   \n",
       "4                                 3913.0       NaN      NaN    4000.0   \n",
       "...                                  ...       ...      ...       ...   \n",
       "72978                             1996.0       NaN      NaN    4200.0   \n",
       "72979                             6418.0       NaN      NaN    6200.0   \n",
       "72980                             8545.0       NaN      NaN    8200.0   \n",
       "72981                             6420.0       NaN      NaN    7000.0   \n",
       "72982                             7535.0       NaN      NaN    8000.0   \n",
       "\n",
       "       IsOnlineSale  WarrantyCost        dow  \n",
       "0                 0          1113     Monday  \n",
       "1                 0          1053     Monday  \n",
       "2                 0          1389     Monday  \n",
       "3                 0           630     Monday  \n",
       "4                 0          1020     Monday  \n",
       "...             ...           ...        ...  \n",
       "72978             0           993  Wednesday  \n",
       "72979             0          1038  Wednesday  \n",
       "72980             0          1893  Wednesday  \n",
       "72981             0          1974  Wednesday  \n",
       "72982             0          1313  Wednesday  \n",
       "\n",
       "[72983 rows x 16 columns]"
      ]
     },
     "execution_count": 28,
     "metadata": {},
     "output_type": "execute_result"
    }
   ],
   "source": [
    "dgk_df"
   ]
  },
  {
   "cell_type": "code",
   "execution_count": 29,
   "metadata": {
    "colab": {
     "base_uri": "https://localhost:8080/",
     "height": 300
    },
    "id": "NmR1HCRmI7TB",
    "outputId": "e6724ba0-961c-4d10-c2c4-9030fd5ff4d1"
   },
   "outputs": [
    {
     "data": {
      "text/html": [
       "\n",
       "  <div id=\"df-1d1bada7-87e2-42b6-bb33-cc17167c85ef\">\n",
       "    <div class=\"colab-df-container\">\n",
       "      <div>\n",
       "<style scoped>\n",
       "    .dataframe tbody tr th:only-of-type {\n",
       "        vertical-align: middle;\n",
       "    }\n",
       "\n",
       "    .dataframe tbody tr th {\n",
       "        vertical-align: top;\n",
       "    }\n",
       "\n",
       "    .dataframe thead th {\n",
       "        text-align: right;\n",
       "    }\n",
       "</style>\n",
       "<table border=\"1\" class=\"dataframe\">\n",
       "  <thead>\n",
       "    <tr style=\"text-align: right;\">\n",
       "      <th></th>\n",
       "      <th>IsBadBuy</th>\n",
       "      <th>VehicleAge</th>\n",
       "      <th>VehOdo</th>\n",
       "      <th>MMRAcquisitionAuctionAveragePrice</th>\n",
       "      <th>VehBCost</th>\n",
       "      <th>IsOnlineSale</th>\n",
       "      <th>WarrantyCost</th>\n",
       "    </tr>\n",
       "  </thead>\n",
       "  <tbody>\n",
       "    <tr>\n",
       "      <th>count</th>\n",
       "      <td>72983.000000</td>\n",
       "      <td>72983.000000</td>\n",
       "      <td>72983.000000</td>\n",
       "      <td>72965.000000</td>\n",
       "      <td>72983.000000</td>\n",
       "      <td>72983.000000</td>\n",
       "      <td>72983.000000</td>\n",
       "    </tr>\n",
       "    <tr>\n",
       "      <th>mean</th>\n",
       "      <td>0.122988</td>\n",
       "      <td>4.176644</td>\n",
       "      <td>71499.995917</td>\n",
       "      <td>6128.909217</td>\n",
       "      <td>6730.934326</td>\n",
       "      <td>0.025280</td>\n",
       "      <td>1276.580985</td>\n",
       "    </tr>\n",
       "    <tr>\n",
       "      <th>std</th>\n",
       "      <td>0.328425</td>\n",
       "      <td>1.712210</td>\n",
       "      <td>14578.913128</td>\n",
       "      <td>2461.992768</td>\n",
       "      <td>1767.846435</td>\n",
       "      <td>0.156975</td>\n",
       "      <td>598.846788</td>\n",
       "    </tr>\n",
       "    <tr>\n",
       "      <th>min</th>\n",
       "      <td>0.000000</td>\n",
       "      <td>0.000000</td>\n",
       "      <td>4825.000000</td>\n",
       "      <td>0.000000</td>\n",
       "      <td>1.000000</td>\n",
       "      <td>0.000000</td>\n",
       "      <td>462.000000</td>\n",
       "    </tr>\n",
       "    <tr>\n",
       "      <th>25%</th>\n",
       "      <td>0.000000</td>\n",
       "      <td>3.000000</td>\n",
       "      <td>61837.000000</td>\n",
       "      <td>4273.000000</td>\n",
       "      <td>5435.000000</td>\n",
       "      <td>0.000000</td>\n",
       "      <td>837.000000</td>\n",
       "    </tr>\n",
       "    <tr>\n",
       "      <th>50%</th>\n",
       "      <td>0.000000</td>\n",
       "      <td>4.000000</td>\n",
       "      <td>73361.000000</td>\n",
       "      <td>6097.000000</td>\n",
       "      <td>6700.000000</td>\n",
       "      <td>0.000000</td>\n",
       "      <td>1155.000000</td>\n",
       "    </tr>\n",
       "    <tr>\n",
       "      <th>75%</th>\n",
       "      <td>0.000000</td>\n",
       "      <td>5.000000</td>\n",
       "      <td>82436.000000</td>\n",
       "      <td>7765.000000</td>\n",
       "      <td>7900.000000</td>\n",
       "      <td>0.000000</td>\n",
       "      <td>1623.000000</td>\n",
       "    </tr>\n",
       "    <tr>\n",
       "      <th>max</th>\n",
       "      <td>1.000000</td>\n",
       "      <td>9.000000</td>\n",
       "      <td>115717.000000</td>\n",
       "      <td>35722.000000</td>\n",
       "      <td>45469.000000</td>\n",
       "      <td>1.000000</td>\n",
       "      <td>7498.000000</td>\n",
       "    </tr>\n",
       "  </tbody>\n",
       "</table>\n",
       "</div>\n",
       "      <button class=\"colab-df-convert\" onclick=\"convertToInteractive('df-1d1bada7-87e2-42b6-bb33-cc17167c85ef')\"\n",
       "              title=\"Convert this dataframe to an interactive table.\"\n",
       "              style=\"display:none;\">\n",
       "        \n",
       "  <svg xmlns=\"http://www.w3.org/2000/svg\" height=\"24px\"viewBox=\"0 0 24 24\"\n",
       "       width=\"24px\">\n",
       "    <path d=\"M0 0h24v24H0V0z\" fill=\"none\"/>\n",
       "    <path d=\"M18.56 5.44l.94 2.06.94-2.06 2.06-.94-2.06-.94-.94-2.06-.94 2.06-2.06.94zm-11 1L8.5 8.5l.94-2.06 2.06-.94-2.06-.94L8.5 2.5l-.94 2.06-2.06.94zm10 10l.94 2.06.94-2.06 2.06-.94-2.06-.94-.94-2.06-.94 2.06-2.06.94z\"/><path d=\"M17.41 7.96l-1.37-1.37c-.4-.4-.92-.59-1.43-.59-.52 0-1.04.2-1.43.59L10.3 9.45l-7.72 7.72c-.78.78-.78 2.05 0 2.83L4 21.41c.39.39.9.59 1.41.59.51 0 1.02-.2 1.41-.59l7.78-7.78 2.81-2.81c.8-.78.8-2.07 0-2.86zM5.41 20L4 18.59l7.72-7.72 1.47 1.35L5.41 20z\"/>\n",
       "  </svg>\n",
       "      </button>\n",
       "      \n",
       "  <style>\n",
       "    .colab-df-container {\n",
       "      display:flex;\n",
       "      flex-wrap:wrap;\n",
       "      gap: 12px;\n",
       "    }\n",
       "\n",
       "    .colab-df-convert {\n",
       "      background-color: #E8F0FE;\n",
       "      border: none;\n",
       "      border-radius: 50%;\n",
       "      cursor: pointer;\n",
       "      display: none;\n",
       "      fill: #1967D2;\n",
       "      height: 32px;\n",
       "      padding: 0 0 0 0;\n",
       "      width: 32px;\n",
       "    }\n",
       "\n",
       "    .colab-df-convert:hover {\n",
       "      background-color: #E2EBFA;\n",
       "      box-shadow: 0px 1px 2px rgba(60, 64, 67, 0.3), 0px 1px 3px 1px rgba(60, 64, 67, 0.15);\n",
       "      fill: #174EA6;\n",
       "    }\n",
       "\n",
       "    [theme=dark] .colab-df-convert {\n",
       "      background-color: #3B4455;\n",
       "      fill: #D2E3FC;\n",
       "    }\n",
       "\n",
       "    [theme=dark] .colab-df-convert:hover {\n",
       "      background-color: #434B5C;\n",
       "      box-shadow: 0px 1px 3px 1px rgba(0, 0, 0, 0.15);\n",
       "      filter: drop-shadow(0px 1px 2px rgba(0, 0, 0, 0.3));\n",
       "      fill: #FFFFFF;\n",
       "    }\n",
       "  </style>\n",
       "\n",
       "      <script>\n",
       "        const buttonEl =\n",
       "          document.querySelector('#df-1d1bada7-87e2-42b6-bb33-cc17167c85ef button.colab-df-convert');\n",
       "        buttonEl.style.display =\n",
       "          google.colab.kernel.accessAllowed ? 'block' : 'none';\n",
       "\n",
       "        async function convertToInteractive(key) {\n",
       "          const element = document.querySelector('#df-1d1bada7-87e2-42b6-bb33-cc17167c85ef');\n",
       "          const dataTable =\n",
       "            await google.colab.kernel.invokeFunction('convertToInteractive',\n",
       "                                                     [key], {});\n",
       "          if (!dataTable) return;\n",
       "\n",
       "          const docLinkHtml = 'Like what you see? Visit the ' +\n",
       "            '<a target=\"_blank\" href=https://colab.research.google.com/notebooks/data_table.ipynb>data table notebook</a>'\n",
       "            + ' to learn more about interactive tables.';\n",
       "          element.innerHTML = '';\n",
       "          dataTable['output_type'] = 'display_data';\n",
       "          await google.colab.output.renderOutput(dataTable, element);\n",
       "          const docLink = document.createElement('div');\n",
       "          docLink.innerHTML = docLinkHtml;\n",
       "          element.appendChild(docLink);\n",
       "        }\n",
       "      </script>\n",
       "    </div>\n",
       "  </div>\n",
       "  "
      ],
      "text/plain": [
       "           IsBadBuy    VehicleAge         VehOdo  \\\n",
       "count  72983.000000  72983.000000   72983.000000   \n",
       "mean       0.122988      4.176644   71499.995917   \n",
       "std        0.328425      1.712210   14578.913128   \n",
       "min        0.000000      0.000000    4825.000000   \n",
       "25%        0.000000      3.000000   61837.000000   \n",
       "50%        0.000000      4.000000   73361.000000   \n",
       "75%        0.000000      5.000000   82436.000000   \n",
       "max        1.000000      9.000000  115717.000000   \n",
       "\n",
       "       MMRAcquisitionAuctionAveragePrice      VehBCost  IsOnlineSale  \\\n",
       "count                       72965.000000  72983.000000  72983.000000   \n",
       "mean                         6128.909217   6730.934326      0.025280   \n",
       "std                          2461.992768   1767.846435      0.156975   \n",
       "min                             0.000000      1.000000      0.000000   \n",
       "25%                          4273.000000   5435.000000      0.000000   \n",
       "50%                          6097.000000   6700.000000      0.000000   \n",
       "75%                          7765.000000   7900.000000      0.000000   \n",
       "max                         35722.000000  45469.000000      1.000000   \n",
       "\n",
       "       WarrantyCost  \n",
       "count  72983.000000  \n",
       "mean    1276.580985  \n",
       "std      598.846788  \n",
       "min      462.000000  \n",
       "25%      837.000000  \n",
       "50%     1155.000000  \n",
       "75%     1623.000000  \n",
       "max     7498.000000  "
      ]
     },
     "execution_count": 29,
     "metadata": {},
     "output_type": "execute_result"
    }
   ],
   "source": [
    "dgk_df.describe()"
   ]
  },
  {
   "cell_type": "code",
   "execution_count": 30,
   "metadata": {
    "id": "j92tc0ScQckU"
   },
   "outputs": [],
   "source": [
    "y_data = dgk_df['IsBadBuy']\n",
    "X_data = dgk_df.drop('IsBadBuy', axis=1, inplace=True)\n"
   ]
  },
  {
   "cell_type": "markdown",
   "metadata": {
    "id": "fARMMdEfSyjv"
   },
   "source": [
    "#check missing values"
   ]
  },
  {
   "cell_type": "code",
   "execution_count": 31,
   "metadata": {
    "colab": {
     "base_uri": "https://localhost:8080/"
    },
    "id": "OGJcQyTGS8_k",
    "outputId": "2f7ee6a1-ff7c-41ff-e171-39ce4c5cacf0"
   },
   "outputs": [
    {
     "data": {
      "text/plain": [
       "Auction                                  0\n",
       "VehicleAge                               0\n",
       "Transmission                             9\n",
       "WheelType                             3174\n",
       "VehOdo                                   0\n",
       "Nationality                              5\n",
       "Size                                     5\n",
       "TopThreeAmericanName                     5\n",
       "MMRAcquisitionAuctionAveragePrice       18\n",
       "PRIMEUNIT                            69564\n",
       "AUCGUART                             69564\n",
       "VehBCost                                 0\n",
       "IsOnlineSale                             0\n",
       "WarrantyCost                             0\n",
       "dow                                      0\n",
       "dtype: int64"
      ]
     },
     "execution_count": 31,
     "metadata": {},
     "output_type": "execute_result"
    }
   ],
   "source": [
    "dgk_df.isnull().sum()"
   ]
  },
  {
   "cell_type": "markdown",
   "metadata": {
    "id": "EuSwDlYtTfKo"
   },
   "source": [
    "Deal with missing values separately with numerical and categorical columns"
   ]
  },
  {
   "cell_type": "code",
   "execution_count": 32,
   "metadata": {
    "colab": {
     "base_uri": "https://localhost:8080/"
    },
    "id": "buE758M6SxuK",
    "outputId": "f1af06f9-78c8-4d5c-80aa-df798e392491"
   },
   "outputs": [
    {
     "name": "stdout",
     "output_type": "stream",
     "text": [
      "['VehicleAge', 'VehOdo', 'MMRAcquisitionAuctionAveragePrice', 'VehBCost', 'IsOnlineSale', 'WarrantyCost']\n",
      "['Auction', 'Transmission', 'WheelType', 'Nationality', 'Size', 'TopThreeAmericanName', 'PRIMEUNIT', 'AUCGUART', 'dow']\n"
     ]
    }
   ],
   "source": [
    "num_features = dgk_df.select_dtypes(include =['float64', 'int64']).columns.tolist()\n",
    "print(num_features)\n",
    "cat_features = dgk_df.select_dtypes(include =['object']).columns.tolist()\n",
    "print(cat_features)"
   ]
  },
  {
   "cell_type": "code",
   "execution_count": 33,
   "metadata": {
    "id": "WeAYtrWNUwTH"
   },
   "outputs": [],
   "source": [
    "# for numerical, replace missing values with averaged one\n",
    "from sklearn.impute import SimpleImputer\n",
    "imputer=SimpleImputer(strategy='mean');\n",
    "imputer.fit(dgk_df[num_features]);\n",
    "dgk_df[num_features]=imputer.transform(dgk_df[num_features]);\n",
    "\n"
   ]
  },
  {
   "cell_type": "code",
   "execution_count": 34,
   "metadata": {
    "colab": {
     "base_uri": "https://localhost:8080/"
    },
    "id": "EGxsj5ZcVdp4",
    "outputId": "9153d859-5911-466b-9ba1-85a44fed1e77"
   },
   "outputs": [
    {
     "data": {
      "text/plain": [
       "VehicleAge                           0\n",
       "VehOdo                               0\n",
       "MMRAcquisitionAuctionAveragePrice    0\n",
       "VehBCost                             0\n",
       "IsOnlineSale                         0\n",
       "WarrantyCost                         0\n",
       "dtype: int64"
      ]
     },
     "execution_count": 34,
     "metadata": {},
     "output_type": "execute_result"
    }
   ],
   "source": [
    "dgk_df[num_features].isnull().sum() "
   ]
  },
  {
   "cell_type": "code",
   "execution_count": 35,
   "metadata": {
    "colab": {
     "base_uri": "https://localhost:8080/"
    },
    "id": "9Lz8_FKEVyih",
    "outputId": "650ccd97-9eaa-45e0-c2bd-3641d59d334c"
   },
   "outputs": [
    {
     "data": {
      "text/plain": [
       "Auction                 0\n",
       "Transmission            0\n",
       "WheelType               0\n",
       "Nationality             0\n",
       "Size                    0\n",
       "TopThreeAmericanName    0\n",
       "PRIMEUNIT               0\n",
       "AUCGUART                0\n",
       "dow                     0\n",
       "dtype: int64"
      ]
     },
     "execution_count": 35,
     "metadata": {},
     "output_type": "execute_result"
    }
   ],
   "source": [
    "for f in cat_features:\n",
    "  dgk_df.fillna('Unknown', inplace=True)\n",
    "dgk_df[cat_features].isnull().sum()  # look alright now"
   ]
  },
  {
   "cell_type": "markdown",
   "metadata": {
    "id": "bQxVqCfGd6BK"
   },
   "source": [
    "Scale the numerical features and encode the cat.features"
   ]
  },
  {
   "cell_type": "code",
   "execution_count": 36,
   "metadata": {
    "colab": {
     "base_uri": "https://localhost:8080/",
     "height": 300
    },
    "id": "itlOjjL1eB6K",
    "outputId": "c5cfc3f2-5d14-43f2-d2f6-ec8b25960d52"
   },
   "outputs": [
    {
     "data": {
      "text/html": [
       "\n",
       "  <div id=\"df-7c59192b-7136-4d9e-a013-373c17161e5e\">\n",
       "    <div class=\"colab-df-container\">\n",
       "      <div>\n",
       "<style scoped>\n",
       "    .dataframe tbody tr th:only-of-type {\n",
       "        vertical-align: middle;\n",
       "    }\n",
       "\n",
       "    .dataframe tbody tr th {\n",
       "        vertical-align: top;\n",
       "    }\n",
       "\n",
       "    .dataframe thead th {\n",
       "        text-align: right;\n",
       "    }\n",
       "</style>\n",
       "<table border=\"1\" class=\"dataframe\">\n",
       "  <thead>\n",
       "    <tr style=\"text-align: right;\">\n",
       "      <th></th>\n",
       "      <th>VehicleAge</th>\n",
       "      <th>VehOdo</th>\n",
       "      <th>MMRAcquisitionAuctionAveragePrice</th>\n",
       "      <th>VehBCost</th>\n",
       "      <th>IsOnlineSale</th>\n",
       "      <th>WarrantyCost</th>\n",
       "    </tr>\n",
       "  </thead>\n",
       "  <tbody>\n",
       "    <tr>\n",
       "      <th>count</th>\n",
       "      <td>72983.000000</td>\n",
       "      <td>72983.000000</td>\n",
       "      <td>72983.000000</td>\n",
       "      <td>72983.000000</td>\n",
       "      <td>72983.000000</td>\n",
       "      <td>72983.000000</td>\n",
       "    </tr>\n",
       "    <tr>\n",
       "      <th>mean</th>\n",
       "      <td>0.464072</td>\n",
       "      <td>0.601261</td>\n",
       "      <td>0.171572</td>\n",
       "      <td>0.148015</td>\n",
       "      <td>0.025280</td>\n",
       "      <td>0.115773</td>\n",
       "    </tr>\n",
       "    <tr>\n",
       "      <th>std</th>\n",
       "      <td>0.190246</td>\n",
       "      <td>0.131469</td>\n",
       "      <td>0.068912</td>\n",
       "      <td>0.038881</td>\n",
       "      <td>0.156975</td>\n",
       "      <td>0.085112</td>\n",
       "    </tr>\n",
       "    <tr>\n",
       "      <th>min</th>\n",
       "      <td>0.000000</td>\n",
       "      <td>0.000000</td>\n",
       "      <td>0.000000</td>\n",
       "      <td>0.000000</td>\n",
       "      <td>0.000000</td>\n",
       "      <td>0.000000</td>\n",
       "    </tr>\n",
       "    <tr>\n",
       "      <th>25%</th>\n",
       "      <td>0.333333</td>\n",
       "      <td>0.514122</td>\n",
       "      <td>0.119618</td>\n",
       "      <td>0.119513</td>\n",
       "      <td>0.000000</td>\n",
       "      <td>0.053297</td>\n",
       "    </tr>\n",
       "    <tr>\n",
       "      <th>50%</th>\n",
       "      <td>0.444444</td>\n",
       "      <td>0.618043</td>\n",
       "      <td>0.170707</td>\n",
       "      <td>0.147334</td>\n",
       "      <td>0.000000</td>\n",
       "      <td>0.098493</td>\n",
       "    </tr>\n",
       "    <tr>\n",
       "      <th>75%</th>\n",
       "      <td>0.555556</td>\n",
       "      <td>0.699879</td>\n",
       "      <td>0.217373</td>\n",
       "      <td>0.173727</td>\n",
       "      <td>0.000000</td>\n",
       "      <td>0.165009</td>\n",
       "    </tr>\n",
       "    <tr>\n",
       "      <th>max</th>\n",
       "      <td>1.000000</td>\n",
       "      <td>1.000000</td>\n",
       "      <td>1.000000</td>\n",
       "      <td>1.000000</td>\n",
       "      <td>1.000000</td>\n",
       "      <td>1.000000</td>\n",
       "    </tr>\n",
       "  </tbody>\n",
       "</table>\n",
       "</div>\n",
       "      <button class=\"colab-df-convert\" onclick=\"convertToInteractive('df-7c59192b-7136-4d9e-a013-373c17161e5e')\"\n",
       "              title=\"Convert this dataframe to an interactive table.\"\n",
       "              style=\"display:none;\">\n",
       "        \n",
       "  <svg xmlns=\"http://www.w3.org/2000/svg\" height=\"24px\"viewBox=\"0 0 24 24\"\n",
       "       width=\"24px\">\n",
       "    <path d=\"M0 0h24v24H0V0z\" fill=\"none\"/>\n",
       "    <path d=\"M18.56 5.44l.94 2.06.94-2.06 2.06-.94-2.06-.94-.94-2.06-.94 2.06-2.06.94zm-11 1L8.5 8.5l.94-2.06 2.06-.94-2.06-.94L8.5 2.5l-.94 2.06-2.06.94zm10 10l.94 2.06.94-2.06 2.06-.94-2.06-.94-.94-2.06-.94 2.06-2.06.94z\"/><path d=\"M17.41 7.96l-1.37-1.37c-.4-.4-.92-.59-1.43-.59-.52 0-1.04.2-1.43.59L10.3 9.45l-7.72 7.72c-.78.78-.78 2.05 0 2.83L4 21.41c.39.39.9.59 1.41.59.51 0 1.02-.2 1.41-.59l7.78-7.78 2.81-2.81c.8-.78.8-2.07 0-2.86zM5.41 20L4 18.59l7.72-7.72 1.47 1.35L5.41 20z\"/>\n",
       "  </svg>\n",
       "      </button>\n",
       "      \n",
       "  <style>\n",
       "    .colab-df-container {\n",
       "      display:flex;\n",
       "      flex-wrap:wrap;\n",
       "      gap: 12px;\n",
       "    }\n",
       "\n",
       "    .colab-df-convert {\n",
       "      background-color: #E8F0FE;\n",
       "      border: none;\n",
       "      border-radius: 50%;\n",
       "      cursor: pointer;\n",
       "      display: none;\n",
       "      fill: #1967D2;\n",
       "      height: 32px;\n",
       "      padding: 0 0 0 0;\n",
       "      width: 32px;\n",
       "    }\n",
       "\n",
       "    .colab-df-convert:hover {\n",
       "      background-color: #E2EBFA;\n",
       "      box-shadow: 0px 1px 2px rgba(60, 64, 67, 0.3), 0px 1px 3px 1px rgba(60, 64, 67, 0.15);\n",
       "      fill: #174EA6;\n",
       "    }\n",
       "\n",
       "    [theme=dark] .colab-df-convert {\n",
       "      background-color: #3B4455;\n",
       "      fill: #D2E3FC;\n",
       "    }\n",
       "\n",
       "    [theme=dark] .colab-df-convert:hover {\n",
       "      background-color: #434B5C;\n",
       "      box-shadow: 0px 1px 3px 1px rgba(0, 0, 0, 0.15);\n",
       "      filter: drop-shadow(0px 1px 2px rgba(0, 0, 0, 0.3));\n",
       "      fill: #FFFFFF;\n",
       "    }\n",
       "  </style>\n",
       "\n",
       "      <script>\n",
       "        const buttonEl =\n",
       "          document.querySelector('#df-7c59192b-7136-4d9e-a013-373c17161e5e button.colab-df-convert');\n",
       "        buttonEl.style.display =\n",
       "          google.colab.kernel.accessAllowed ? 'block' : 'none';\n",
       "\n",
       "        async function convertToInteractive(key) {\n",
       "          const element = document.querySelector('#df-7c59192b-7136-4d9e-a013-373c17161e5e');\n",
       "          const dataTable =\n",
       "            await google.colab.kernel.invokeFunction('convertToInteractive',\n",
       "                                                     [key], {});\n",
       "          if (!dataTable) return;\n",
       "\n",
       "          const docLinkHtml = 'Like what you see? Visit the ' +\n",
       "            '<a target=\"_blank\" href=https://colab.research.google.com/notebooks/data_table.ipynb>data table notebook</a>'\n",
       "            + ' to learn more about interactive tables.';\n",
       "          element.innerHTML = '';\n",
       "          dataTable['output_type'] = 'display_data';\n",
       "          await google.colab.output.renderOutput(dataTable, element);\n",
       "          const docLink = document.createElement('div');\n",
       "          docLink.innerHTML = docLinkHtml;\n",
       "          element.appendChild(docLink);\n",
       "        }\n",
       "      </script>\n",
       "    </div>\n",
       "  </div>\n",
       "  "
      ],
      "text/plain": [
       "         VehicleAge        VehOdo  MMRAcquisitionAuctionAveragePrice  \\\n",
       "count  72983.000000  72983.000000                       72983.000000   \n",
       "mean       0.464072      0.601261                           0.171572   \n",
       "std        0.190246      0.131469                           0.068912   \n",
       "min        0.000000      0.000000                           0.000000   \n",
       "25%        0.333333      0.514122                           0.119618   \n",
       "50%        0.444444      0.618043                           0.170707   \n",
       "75%        0.555556      0.699879                           0.217373   \n",
       "max        1.000000      1.000000                           1.000000   \n",
       "\n",
       "           VehBCost  IsOnlineSale  WarrantyCost  \n",
       "count  72983.000000  72983.000000  72983.000000  \n",
       "mean       0.148015      0.025280      0.115773  \n",
       "std        0.038881      0.156975      0.085112  \n",
       "min        0.000000      0.000000      0.000000  \n",
       "25%        0.119513      0.000000      0.053297  \n",
       "50%        0.147334      0.000000      0.098493  \n",
       "75%        0.173727      0.000000      0.165009  \n",
       "max        1.000000      1.000000      1.000000  "
      ]
     },
     "execution_count": 36,
     "metadata": {},
     "output_type": "execute_result"
    }
   ],
   "source": [
    "from sklearn.preprocessing import MinMaxScaler\n",
    "scaler=MinMaxScaler()\n",
    "scaler.fit(dgk_df[num_features]);\n",
    "dgk_df[num_features]=scaler.transform(dgk_df[num_features])\n",
    "dgk_df[num_features].describe()"
   ]
  },
  {
   "cell_type": "code",
   "execution_count": 37,
   "metadata": {
    "id": "K6kMV2NdemA1"
   },
   "outputs": [],
   "source": [
    "from sklearn.preprocessing import OneHotEncoder\n",
    "encoder=OneHotEncoder(sparse=False,handle_unknown='ignore')\n",
    "encoder.fit(dgk_df[cat_features])\n",
    "encoded_cols=list(encoder.get_feature_names(cat_features))\n",
    "dgk_df[encoded_cols]=encoder.transform(dgk_df[cat_features]);\n",
    "#test_df[encoded_cols]=encoder.transform(test_df[cat_features]);\n",
    "dgk_df[encoded_cols].describe()\n",
    "dgk_df.drop(cat_features, axis=1, inplace=True)"
   ]
  },
  {
   "cell_type": "markdown",
   "metadata": {
    "id": "P8_tn9ilfTAn"
   },
   "source": [
    "Note: day of week Could be simplified as weekday and weekend "
   ]
  },
  {
   "cell_type": "code",
   "execution_count": null,
   "metadata": {
    "id": "xsEBOGJsfdKe"
   },
   "outputs": [],
   "source": [
    "dgk_df.info()"
   ]
  },
  {
   "cell_type": "markdown",
   "metadata": {
    "id": "9DjZvYvTf3fs"
   },
   "source": [
    "# Build Models"
   ]
  },
  {
   "cell_type": "code",
   "execution_count": 38,
   "metadata": {
    "id": "DeipDu3_f78j"
   },
   "outputs": [],
   "source": [
    "from sklearn.model_selection import train_test_split\n",
    "X_train, X_test, y_train, y_test = train_test_split(dgk_df, y_data, test_size=0.15, random_state=0)"
   ]
  },
  {
   "cell_type": "code",
   "execution_count": 39,
   "metadata": {
    "colab": {
     "base_uri": "https://localhost:8080/"
    },
    "id": "bARGlmjjjRo5",
    "outputId": "610c12d6-3f55-4993-ed8e-8428d3db8822"
   },
   "outputs": [
    {
     "data": {
      "text/plain": [
       "<bound method DataFrame.info of        VehicleAge    VehOdo  MMRAcquisitionAuctionAveragePrice  VehBCost  \\\n",
       "65630    0.888889  0.575641                           0.063154  0.085973   \n",
       "53349    0.111111  0.359305                           0.206231  0.162730   \n",
       "54575    0.333333  0.746348                           0.223588  0.153932   \n",
       "52476    0.222222  0.416279                           0.291725  0.206497   \n",
       "37047    0.333333  0.720512                           0.343626  0.204407   \n",
       "...           ...       ...                                ...       ...   \n",
       "21243    0.555556  0.341864                           0.087033  0.117093   \n",
       "45891    0.555556  0.737736                           0.187000  0.179775   \n",
       "42613    0.555556  0.670066                           0.094424  0.120282   \n",
       "43567    0.666667  0.808679                           0.080623  0.092351   \n",
       "68268    0.333333  0.530110                           0.170567  0.136118   \n",
       "\n",
       "       IsOnlineSale  WarrantyCost  Auction_ADESA  Auction_MANHEIM  \\\n",
       "65630           0.0      0.094230            0.0              1.0   \n",
       "53349           0.0      0.032831            0.0              0.0   \n",
       "54575           0.0      0.240193            0.0              0.0   \n",
       "52476           0.0      0.017908            0.0              0.0   \n",
       "37047           0.0      0.147953            0.0              1.0   \n",
       "...             ...           ...            ...              ...   \n",
       "21243           0.0      0.012933            0.0              1.0   \n",
       "45891           0.0      0.074048            0.0              1.0   \n",
       "42613           0.0      0.098493            0.0              1.0   \n",
       "43567           0.0      0.229107            0.0              1.0   \n",
       "68268           0.0      0.093235            1.0              0.0   \n",
       "\n",
       "       Auction_OTHER  Transmission_AUTO  ...  AUCGUART_GREEN  AUCGUART_RED  \\\n",
       "65630            0.0                1.0  ...             0.0           0.0   \n",
       "53349            1.0                1.0  ...             0.0           0.0   \n",
       "54575            1.0                1.0  ...             0.0           0.0   \n",
       "52476            1.0                1.0  ...             0.0           0.0   \n",
       "37047            0.0                1.0  ...             0.0           0.0   \n",
       "...              ...                ...  ...             ...           ...   \n",
       "21243            0.0                1.0  ...             0.0           0.0   \n",
       "45891            0.0                1.0  ...             0.0           0.0   \n",
       "42613            0.0                1.0  ...             0.0           0.0   \n",
       "43567            0.0                1.0  ...             0.0           0.0   \n",
       "68268            0.0                1.0  ...             0.0           0.0   \n",
       "\n",
       "       AUCGUART_Unknown  dow_Friday  dow_Monday  dow_Saturday  dow_Sunday  \\\n",
       "65630               1.0         0.0         0.0           0.0         0.0   \n",
       "53349               1.0         0.0         1.0           0.0         0.0   \n",
       "54575               1.0         1.0         0.0           0.0         0.0   \n",
       "52476               1.0         0.0         0.0           0.0         0.0   \n",
       "37047               1.0         0.0         0.0           0.0         0.0   \n",
       "...                 ...         ...         ...           ...         ...   \n",
       "21243               1.0         0.0         0.0           0.0         0.0   \n",
       "45891               1.0         0.0         0.0           0.0         0.0   \n",
       "42613               1.0         0.0         0.0           0.0         0.0   \n",
       "43567               1.0         0.0         0.0           0.0         0.0   \n",
       "68268               1.0         0.0         0.0           0.0         0.0   \n",
       "\n",
       "       dow_Thursday  dow_Tuesday  dow_Wednesday  \n",
       "65630           1.0          0.0            0.0  \n",
       "53349           0.0          0.0            0.0  \n",
       "54575           0.0          0.0            0.0  \n",
       "52476           1.0          0.0            0.0  \n",
       "37047           0.0          0.0            1.0  \n",
       "...             ...          ...            ...  \n",
       "21243           0.0          0.0            1.0  \n",
       "45891           0.0          0.0            1.0  \n",
       "42613           1.0          0.0            0.0  \n",
       "43567           0.0          0.0            1.0  \n",
       "68268           1.0          0.0            0.0  \n",
       "\n",
       "[62035 rows x 53 columns]>"
      ]
     },
     "execution_count": 39,
     "metadata": {},
     "output_type": "execute_result"
    }
   ],
   "source": [
    "X_train.info"
   ]
  },
  {
   "cell_type": "code",
   "execution_count": 41,
   "metadata": {
    "colab": {
     "base_uri": "https://localhost:8080/"
    },
    "id": "LdGoCEuThDoa",
    "outputId": "46906f10-84aa-4a7f-e396-8e13b40b1409"
   },
   "outputs": [
    {
     "name": "stdout",
     "output_type": "stream",
     "text": [
      "logistic regression test accurary:89.52% \n",
      "logistic regression test ROC:  0.758\n"
     ]
    }
   ],
   "source": [
    "# Logistic Regression\n",
    "from sklearn.linear_model import LogisticRegression\n",
    "from sklearn.metrics import roc_auc_score\n",
    "classifier = LogisticRegression(max_iter =400) # default 100 gives warning\n",
    "model = classifier.fit(X_train, y_train)\n",
    "acc_test_log = round(classifier.score(X_test, y_test) * 100, 2)\n",
    "roc_test_log = round(roc_auc_score(y_test, model.predict_proba(X_test)[:, 1]),3)\n",
    "print(f'logistic regression test accurary:{acc_test_log}% ')\n",
    "print('logistic regression test ROC: ',roc_test_log)\n",
    "filename = 'logistic_regression_model.sav'\n",
    "pickle.dump(model, open(filename, 'wb'))"
   ]
  },
  {
   "cell_type": "code",
   "execution_count": 42,
   "metadata": {
    "colab": {
     "base_uri": "https://localhost:8080/"
    },
    "id": "mRJxHQvipcqq",
    "outputId": "46512a97-cbbb-4c8b-8223-dad7520e306e"
   },
   "outputs": [
    {
     "name": "stdout",
     "output_type": "stream",
     "text": [
      "xgb train accurary: 89.97%\n",
      "xgb test accurary: 90.02%\n",
      "xgb test ROC: 0.768\n"
     ]
    }
   ],
   "source": [
    "# XGBoost\n",
    "from xgboost.sklearn import XGBClassifier\n",
    "xgb = XGBClassifier(n_estimators=500,learning_rate=0.02) #hyper parameters could be adjusted\n",
    "model = xgb.fit(X_train, y_train)\n",
    "acc_train_xgb = round(xgb.score(X_train, y_train) * 100, 2)\n",
    "acc_test_xgb = round(xgb.score(X_test, y_test) * 100, 2)\n",
    "roc_test_xgb = round(roc_auc_score(y_test, model.predict_proba(X_test)[:, 1]),3)\n",
    "print(f'xgb train accurary: {acc_train_xgb}%')\n",
    "print(f'xgb test accurary: {acc_test_xgb}%')\n",
    "print(f'xgb test ROC: {roc_test_xgb}')\n",
    "filename = 'xgb_model.sav'\n",
    "pickle.dump(model, open(filename, 'wb'))"
   ]
  },
  {
   "cell_type": "code",
   "execution_count": 43,
   "metadata": {
    "colab": {
     "base_uri": "https://localhost:8080/"
    },
    "id": "QYXrukfqr1Z-",
    "outputId": "ec6be3d5-98cf-4687-8754-8ee047164652"
   },
   "outputs": [
    {
     "name": "stdout",
     "output_type": "stream",
     "text": [
      "Epoch 1/10\n",
      "62035/62035 [==============================] - 113s 2ms/step - loss: 0.3158 - accuracy: 0.8973\n",
      "Epoch 2/10\n",
      "62035/62035 [==============================] - 110s 2ms/step - loss: 0.3106 - accuracy: 0.8985\n",
      "Epoch 3/10\n",
      "62035/62035 [==============================] - 113s 2ms/step - loss: 0.3096 - accuracy: 0.8987\n",
      "Epoch 4/10\n",
      "62035/62035 [==============================] - 111s 2ms/step - loss: 0.3091 - accuracy: 0.8987\n",
      "Epoch 5/10\n",
      "62035/62035 [==============================] - 107s 2ms/step - loss: 0.3088 - accuracy: 0.8987\n",
      "Epoch 6/10\n",
      "62035/62035 [==============================] - 107s 2ms/step - loss: 0.3081 - accuracy: 0.8988\n",
      "Epoch 7/10\n",
      "62035/62035 [==============================] - 109s 2ms/step - loss: 0.3085 - accuracy: 0.8990\n",
      "Epoch 8/10\n",
      "62035/62035 [==============================] - 109s 2ms/step - loss: 0.3082 - accuracy: 0.8988\n",
      "Epoch 9/10\n",
      "62035/62035 [==============================] - 111s 2ms/step - loss: 0.3080 - accuracy: 0.8988\n",
      "Epoch 10/10\n",
      "62035/62035 [==============================] - 110s 2ms/step - loss: 0.3076 - accuracy: 0.8991\n",
      "343/343 [==============================] - 1s 2ms/step - loss: 0.3040 - accuracy: 0.8988\n",
      "test_loss:0.30396661162376404\n",
      "test_acc: 0.8987942934036255\n"
     ]
    }
   ],
   "source": [
    "#Alternative Approach: Deep Learning\n",
    "import tensorflow as tf\n",
    "from tensorflow import keras\n",
    "from keras.layers import Dense\n",
    "model =keras.Sequential([\n",
    "    keras.layers.Flatten(input_shape=(53,)),\n",
    "    keras.layers.Dense(16, activation=tf.nn.relu),\n",
    "\t  keras.layers.Dense(16, activation=tf.nn.relu),\n",
    "    keras.layers.Dense(1, activation=tf.nn.sigmoid),\n",
    "])\n",
    "model.compile(optimizer='adam',\n",
    "              loss='binary_crossentropy',\n",
    "              metrics=['accuracy'])\n",
    "\n",
    "model.fit(X_train, y_train, epochs=10, batch_size=1) # tried epochs 50, but 10 is good enough (nearly converged)\n",
    "test_loss, test_acc = model.evaluate(X_test, y_test)\n",
    "print('test_loss:'+ str(test_loss) )\n",
    "print('test_acc: '+ str(test_acc) )\n",
    "filename = 'nn_model.sav'\n",
    "pickle.dump(model, open(filename, 'wb'))"
   ]
  }
 ],
 "metadata": {
  "colab": {
   "collapsed_sections": [],
   "name": "dont-get-kicked.ipynb",
   "provenance": []
  },
  "kernelspec": {
   "display_name": "Python 3 (ipykernel)",
   "language": "python",
   "name": "python3"
  },
  "language_info": {
   "codemirror_mode": {
    "name": "ipython",
    "version": 3
   },
   "file_extension": ".py",
   "mimetype": "text/x-python",
   "name": "python",
   "nbconvert_exporter": "python",
   "pygments_lexer": "ipython3",
   "version": "3.9.12"
  }
 },
 "nbformat": 4,
 "nbformat_minor": 1
}
